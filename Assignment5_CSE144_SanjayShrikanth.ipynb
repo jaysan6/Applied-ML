{
  "nbformat": 4,
  "nbformat_minor": 0,
  "metadata": {
    "colab": {
      "name": "CSE144_Assignment_5_Sanjay_Shrikanth.ipynb",
      "provenance": [],
      "collapsed_sections": []
    },
    "kernelspec": {
      "name": "python3",
      "display_name": "Python 3"
    },
    "language_info": {
      "name": "python"
    },
    "accelerator": "GPU"
  },
  "cells": [
    {
      "cell_type": "code",
      "metadata": {
        "id": "2IlwhV0z2nMr"
      },
      "source": [
        "%matplotlib inline"
      ],
      "execution_count": 2,
      "outputs": []
    },
    {
      "cell_type": "markdown",
      "metadata": {
        "id": "Chprzdhe2nMw"
      },
      "source": [
        "# Assignment 5\n",
        "\n",
        "**DUE: Sunday December 5, 2021 11:59pm**\n",
        "\n",
        "Turn in the assignment via Canvas.\n",
        "\n",
        "To write legible answers you will need to be familiar with both [Markdown](https://github.com/adam-p/markdown-here/wiki/Markdown-Cheatsheet) and [Latex](https://www.latex-tutorial.com/tutorials/amsmath/)\n",
        "\n",
        "Before you turn this problem in, make sure everything runs as expected. First, restart the kernel (in the menubar, select Runtime→→Restart runtime) and then run all cells (in the menubar, select Runtime→→Run All).\n",
        "\n",
        "Make sure you fill in any place that says \"YOUR CODE HERE\" or \"YOUR ANSWER HERE\", as well as your name below:"
      ]
    },
    {
      "cell_type": "code",
      "metadata": {
        "id": "8jeWubXE2nMx"
      },
      "source": [
        "NAME = \"Sanjay Shrikanth\"\n",
        "STUDENT_ID = \"1718751\""
      ],
      "execution_count": 3,
      "outputs": []
    },
    {
      "cell_type": "markdown",
      "metadata": {
        "id": "E-DjjESEyXnL"
      },
      "source": [
        "\n",
        "\n",
        "\n",
        "\n"
      ]
    },
    {
      "cell_type": "code",
      "metadata": {
        "id": "Bv1G7ixQvN8E"
      },
      "source": [
        "import numpy as np\n",
        "import pandas as pd\n",
        "import matplotlib.pyplot as plt\n",
        "import seaborn as sns\n",
        "\n",
        "import tensorflow as tf\n",
        "\n",
        "from sklearn.metrics import accuracy_score, precision_score, recall_score\n",
        "from sklearn.model_selection import train_test_split\n",
        "from tensorflow.keras import layers, losses\n",
        "from tensorflow.keras.datasets import fashion_mnist\n",
        "from tensorflow.keras.models import Model, Sequential"
      ],
      "execution_count": 4,
      "outputs": []
    },
    {
      "cell_type": "markdown",
      "metadata": {
        "id": "Y32nQiJbSAwC"
      },
      "source": [
        "## Question 1: Bitcoin Price Prediction\n",
        "---\n",
        "Bitcoin, amongst other assets like AMC and GME, has been all the rage this past year and reached an all time high of \\$68,521 per bitcoin. Since reaching it's high, the price has dropped by nearly a half. Analysts continue to feed the frenzy by releasing price predictions that range from from \\$500,000 to \\$9,000 per bitcoin in the next year. You will make an Recurrent neural network model to gain some insight into price prediction. Yahoo! Finance is a trusted name in free financial information and has been with us since the internet's early years. You'll be using data gathered obtained from https://finance.yahoo.com/quote/BTC-USD/history/ to train your recurrent neural network.\n",
        "\n",
        "Run the following code cell to download the training and test data. It might take a while to download the zip file and extract it.\n",
        "\n",
        "Link to the raw data: [link](https://drive.google.com/file/d/1IvrXXUDB_kO4ydZb-lwtVF9BLccDtdJP/view?usp=sharing)"
      ]
    },
    {
      "cell_type": "code",
      "metadata": {
        "id": "iExiItBkdS8F"
      },
      "source": [
        "from pydrive.auth import GoogleAuth\n",
        "from pydrive.drive import GoogleDrive\n",
        "from google.colab import auth\n",
        "from oauth2client.client import GoogleCredentials\n",
        "import io\n",
        "import zipfile\n",
        "auth.authenticate_user()\n",
        "gauth = GoogleAuth()\n",
        "gauth.credentials = GoogleCredentials.get_application_default()\n",
        "drive = GoogleDrive(gauth)\n",
        "file_id = '1IvrXXUDB_kO4ydZb-lwtVF9BLccDtdJP'\n",
        "downloaded = drive.CreateFile({'id': file_id})\n",
        "downloaded.GetContentFile('BTC-USD.csv')\n"
      ],
      "execution_count": 5,
      "outputs": []
    },
    {
      "cell_type": "code",
      "metadata": {
        "id": "_ab-5H8XVOVi"
      },
      "source": [
        "# Create pandas dataframe\n",
        "data = pd.read_csv('BTC-USD.csv')"
      ],
      "execution_count": 6,
      "outputs": []
    },
    {
      "cell_type": "code",
      "metadata": {
        "id": "8W_KrGElWT0y",
        "colab": {
          "base_uri": "https://localhost:8080/",
          "height": 206
        },
        "outputId": "402e8c9b-a34d-4342-c6ed-b2dc2ad63778"
      },
      "source": [
        "# Plot data.head()\n",
        "data.head()"
      ],
      "execution_count": 7,
      "outputs": [
        {
          "output_type": "execute_result",
          "data": {
            "text/html": [
              "<div>\n",
              "<style scoped>\n",
              "    .dataframe tbody tr th:only-of-type {\n",
              "        vertical-align: middle;\n",
              "    }\n",
              "\n",
              "    .dataframe tbody tr th {\n",
              "        vertical-align: top;\n",
              "    }\n",
              "\n",
              "    .dataframe thead th {\n",
              "        text-align: right;\n",
              "    }\n",
              "</style>\n",
              "<table border=\"1\" class=\"dataframe\">\n",
              "  <thead>\n",
              "    <tr style=\"text-align: right;\">\n",
              "      <th></th>\n",
              "      <th>Date</th>\n",
              "      <th>Open</th>\n",
              "      <th>High</th>\n",
              "      <th>Low</th>\n",
              "      <th>Close</th>\n",
              "      <th>Adj Close</th>\n",
              "      <th>Volume</th>\n",
              "    </tr>\n",
              "  </thead>\n",
              "  <tbody>\n",
              "    <tr>\n",
              "      <th>0</th>\n",
              "      <td>2014-09-17</td>\n",
              "      <td>465.864014</td>\n",
              "      <td>468.174011</td>\n",
              "      <td>452.421997</td>\n",
              "      <td>457.334015</td>\n",
              "      <td>457.334015</td>\n",
              "      <td>21056800.0</td>\n",
              "    </tr>\n",
              "    <tr>\n",
              "      <th>1</th>\n",
              "      <td>2014-09-18</td>\n",
              "      <td>456.859985</td>\n",
              "      <td>456.859985</td>\n",
              "      <td>413.104004</td>\n",
              "      <td>424.440002</td>\n",
              "      <td>424.440002</td>\n",
              "      <td>34483200.0</td>\n",
              "    </tr>\n",
              "    <tr>\n",
              "      <th>2</th>\n",
              "      <td>2014-09-19</td>\n",
              "      <td>424.102997</td>\n",
              "      <td>427.834991</td>\n",
              "      <td>384.532013</td>\n",
              "      <td>394.795990</td>\n",
              "      <td>394.795990</td>\n",
              "      <td>37919700.0</td>\n",
              "    </tr>\n",
              "    <tr>\n",
              "      <th>3</th>\n",
              "      <td>2014-09-20</td>\n",
              "      <td>394.673004</td>\n",
              "      <td>423.295990</td>\n",
              "      <td>389.882996</td>\n",
              "      <td>408.903992</td>\n",
              "      <td>408.903992</td>\n",
              "      <td>36863600.0</td>\n",
              "    </tr>\n",
              "    <tr>\n",
              "      <th>4</th>\n",
              "      <td>2014-09-21</td>\n",
              "      <td>408.084991</td>\n",
              "      <td>412.425995</td>\n",
              "      <td>393.181000</td>\n",
              "      <td>398.821014</td>\n",
              "      <td>398.821014</td>\n",
              "      <td>26580100.0</td>\n",
              "    </tr>\n",
              "  </tbody>\n",
              "</table>\n",
              "</div>"
            ],
            "text/plain": [
              "         Date        Open        High  ...       Close   Adj Close      Volume\n",
              "0  2014-09-17  465.864014  468.174011  ...  457.334015  457.334015  21056800.0\n",
              "1  2014-09-18  456.859985  456.859985  ...  424.440002  424.440002  34483200.0\n",
              "2  2014-09-19  424.102997  427.834991  ...  394.795990  394.795990  37919700.0\n",
              "3  2014-09-20  394.673004  423.295990  ...  408.903992  408.903992  36863600.0\n",
              "4  2014-09-21  408.084991  412.425995  ...  398.821014  398.821014  26580100.0\n",
              "\n",
              "[5 rows x 7 columns]"
            ]
          },
          "metadata": {},
          "execution_count": 7
        }
      ]
    },
    {
      "cell_type": "markdown",
      "metadata": {
        "id": "x0UzN1BASfgD"
      },
      "source": [
        "Let's plot the bitcoin price. First, we will make a plot of bitcoin price vs the days after September 15, 2014, the start date of this dataset. Day \"0\" indicates September 15, 2014."
      ]
    },
    {
      "cell_type": "code",
      "metadata": {
        "id": "UjcXKOtg6jb5",
        "colab": {
          "base_uri": "https://localhost:8080/",
          "height": 265
        },
        "outputId": "977a8e13-f0ac-4794-f80a-a6aa8b62d883"
      },
      "source": [
        "import matplotlib.pyplot as plt\n",
        "import seaborn as sns # Used for plotting\n",
        "\n",
        "g = sns.lineplot(x = np.linspace(1,2622,2622), y = data['High'].values.reshape(-1))\n"
      ],
      "execution_count": 8,
      "outputs": [
        {
          "output_type": "display_data",
          "data": {
            "image/png": "[encoded data removed]",
            "text/plain": [
              "<Figure size 432x288 with 1 Axes>"
            ]
          },
          "metadata": {
            "needs_background": "light"
          }
        }
      ]
    },
    {
      "cell_type": "markdown",
      "metadata": {
        "id": "Upn-QIHf6mwa"
      },
      "source": [
        "Next, we plot bitcoin vs. days. But this time there are dates added to the graph."
      ]
    },
    {
      "cell_type": "code",
      "metadata": {
        "id": "qaUQJVYCSc-S",
        "colab": {
          "base_uri": "https://localhost:8080/",
          "height": 519
        },
        "outputId": "ff20fd97-e38d-433c-e410-99edc1ba8feb"
      },
      "source": [
        "import matplotlib.pyplot as plt\n",
        "import seaborn as sns # Used for plotting\n",
        "\n",
        "g = sns.lineplot(x = np.linspace(1,2622,2622), y = data['High'].values.reshape(-1))\n",
        "#g.map(plt.plot, \"a\", \"v\", marker=\"o\")\n",
        "g.set(xticks=np.arange(0,2500,200))\n",
        "g.set_xticklabels(rotation=30, labels = data['Date'][0::200])"
      ],
      "execution_count": 9,
      "outputs": [
        {
          "output_type": "execute_result",
          "data": {
            "text/plain": [
              "[Text(0, 0, '2014-09-17'),\n",
              " Text(0, 0, '2015-04-05'),\n",
              " Text(0, 0, '2015-10-22'),\n",
              " Text(0, 0, '2016-05-09'),\n",
              " Text(0, 0, '2016-11-25'),\n",
              " Text(0, 0, '2017-06-13'),\n",
              " Text(0, 0, '2017-12-30'),\n",
              " Text(0, 0, '2018-07-18'),\n",
              " Text(0, 0, '2019-02-03'),\n",
              " Text(0, 0, '2019-08-22'),\n",
              " Text(0, 0, '2020-03-09'),\n",
              " Text(0, 0, '2020-09-25'),\n",
              " Text(0, 0, '2021-04-13')]"
            ]
          },
          "metadata": {},
          "execution_count": 9
        },
        {
          "output_type": "display_data",
          "data": {
            "image/png": "[encoded data removed]",
            "text/plain": [
              "<Figure size 432x288 with 1 Axes>"
            ]
          },
          "metadata": {
            "needs_background": "light"
          }
        }
      ]
    },
    {
      "cell_type": "markdown",
      "metadata": {
        "id": "DHC5nm2AMwT4"
      },
      "source": [
        "### Part a) Data Preprocessing (5 points)\n",
        "In this section you will preprocess the in order to train a recurrent neural network. We can see that there 5 columns, \"Date\", \"Open\", \"High\", \"Low\", \"Close\", \"Adjusted Close\", and \"Volume\". We will only use the High column."
      ]
    },
    {
      "cell_type": "code",
      "metadata": {
        "id": "mhTJ8iATNFlC"
      },
      "source": [
        "# Create a dataframe that only contains High Column.\n",
        "# Hint: it may be helpful to now cast your pruned dataframe to a numpy array.\n",
        "data = data.dropna(subset=[\"High\"])\n",
        "data_high = data[\"High\"].to_numpy()"
      ],
      "execution_count": 10,
      "outputs": []
    },
    {
      "cell_type": "markdown",
      "metadata": {
        "id": "JJ6wmmb2DJnE"
      },
      "source": [
        "\n",
        "Recall [MinMaxScaler](https://scikit-learn.org/stable/modules/generated/sklearn.preprocessing.MinMaxScaler.html) from sklearn. Use it to scale the data for our analysis. "
      ]
    },
    {
      "cell_type": "code",
      "metadata": {
        "id": "4FXLabvyCEN_"
      },
      "source": [
        "### YOUR CODE HERE ###\n",
        "from sklearn.preprocessing import MinMaxScaler\n",
        "\n",
        "scaler = MinMaxScaler()\n",
        "\n",
        "data_normalized = scaler.fit_transform(data_high.reshape(-1,1)).flatten()"
      ],
      "execution_count": 11,
      "outputs": []
    },
    {
      "cell_type": "markdown",
      "metadata": {
        "id": "Dqq2K_UpNnrX"
      },
      "source": [
        "You will implement a simple autoregressive recurrent neural network using the standard tensorflow RNN architectures. An autoregressive model originates from the literature on time-series models where observations from the previous time-steps are used to predict the value at the current time step. To implemement an autoregressive model, we will simply augment the data so that \"time_steps\" number of previous days are fed to the model at the current time step in order to form a prediction. The function to augment the data is given to you:"
      ]
    },
    {
      "cell_type": "code",
      "metadata": {
        "id": "jtz4UhmUNngP"
      },
      "source": [
        "\n",
        "def create_dataset(dataset, time_steps=1):\n",
        "    \"\"\"\n",
        "    Generate a dataset where the time series X[n] contains the readings for the 'time_step' previous days \n",
        "    and y contains the price for today.\n",
        "    args:\n",
        "    dataset: numpy array, the data\n",
        "    time_steps: the number of previous days to feed to RNN\n",
        "\n",
        "    returns:\n",
        "    tuple: a dataset with x[i] containing 'time_step' number of previous prices, target price for x[i]\n",
        "    \"\"\"\n",
        "    dataX, dataY = [],[]\n",
        "    for i in range(len(dataset)-time_steps-1):\n",
        "        a = dataset[i:(i+time_steps)]\n",
        "        dataX.append(a)\n",
        "        dataY.append(dataset[i + time_steps])\n",
        "    return np.array(dataX), np.array(dataY)"
      ],
      "execution_count": 12,
      "outputs": []
    },
    {
      "cell_type": "code",
      "metadata": {
        "id": "GtUFvFWuNmiQ"
      },
      "source": [
        "# Choose the number of time steps that the model \"looks back\"\n",
        "time_steps = 50\n",
        "\n",
        "# Produce your dataset based on the number of days the model could look back\n",
        "X,y = create_dataset(data_normalized, time_steps)"
      ],
      "execution_count": 13,
      "outputs": []
    },
    {
      "cell_type": "code",
      "metadata": {
        "id": "GUmwLVKQ9PVN",
        "colab": {
          "base_uri": "https://localhost:8080/"
        },
        "outputId": "ad1bb562-873d-4733-f847-274948d3ab6e"
      },
      "source": [
        "# Check the shape of your dataset\n",
        "print(X.shape, y.shape)"
      ],
      "execution_count": 14,
      "outputs": [
        {
          "output_type": "stream",
          "name": "stdout",
          "text": [
            "(2567, 50) (2567,)\n"
          ]
        }
      ]
    },
    {
      "cell_type": "markdown",
      "metadata": {
        "id": "MBKjptQ4Sa7O"
      },
      "source": [
        "### Part b) Data Partitioning (5 points)\n",
        "Split data into train and test sets. Use 80\\% for training and 20\\% for testing. **Note**: you need to split the data in time (the begining 80\\% of the days from start date will be the training data and the remaining 20\\% will be test data)."
      ]
    },
    {
      "cell_type": "code",
      "metadata": {
        "id": "q-lwp69bNn-v",
        "colab": {
          "base_uri": "https://localhost:8080/"
        },
        "outputId": "50f34cee-453a-40df-da51-124ac09b9a69"
      },
      "source": [
        "X_train, X_test, y_train, y_test = train_test_split(X, y, test_size=0.2, shuffle=False)\n",
        "print(X_train.shape)"
      ],
      "execution_count": 15,
      "outputs": [
        {
          "output_type": "stream",
          "name": "stdout",
          "text": [
            "(2053, 50)\n"
          ]
        }
      ]
    },
    {
      "cell_type": "markdown",
      "metadata": {
        "id": "C3ylDfvKSRpt"
      },
      "source": [
        "For this dataset, you need to reshape the partitions for the model to be able to process them."
      ]
    },
    {
      "cell_type": "code",
      "metadata": {
        "id": "VGY8MCxWSRpv"
      },
      "source": [
        "# Reshape input to be [samples, time steps, features].\n",
        "X_train = np.reshape(X_train, (X_train.shape[0], 1, X_train.shape[1]))\n",
        "X_test = np.reshape(X_test, (X_test.shape[0], 1, X_test.shape[1]))"
      ],
      "execution_count": 16,
      "outputs": []
    },
    {
      "cell_type": "markdown",
      "metadata": {
        "id": "XT5ychZQTh_R"
      },
      "source": [
        "### Part c) RNN Model (15 points)\n",
        "In this part you will create a model using an RNN layer (LSTM or GRU, unidirectional or bidirectional) and train it on your training data. You will also plot training and validation loss. Use mean squared error as your model's metric."
      ]
    },
    {
      "cell_type": "markdown",
      "metadata": {
        "id": "QI6ZFzquTh_R"
      },
      "source": [
        "Compile your model and display the summary:"
      ]
    },
    {
      "cell_type": "code",
      "metadata": {
        "id": "6UVNRGQlTh_S",
        "colab": {
          "base_uri": "https://localhost:8080/"
        },
        "outputId": "67e265a3-3bf4-4fd7-ebcd-2234d36fdc35"
      },
      "source": [
        "# Build your model\n",
        "from tensorflow.keras.layers import Dense, Dropout, Input, LSTM, BatchNormalization, GRU\n",
        "\n",
        "input = Input(shape=(1,time_steps))\n",
        "x = LSTM(128)(input)\n",
        "x = Dense(1)(x)\n",
        "model = Model(input, x)\n",
        "\n",
        "model.summary()\n",
        "\n",
        "loss = tf.keras.losses.MeanSquaredError()\n",
        "\n",
        "opt = tf.keras.optimizers.Adam(0.001)\n",
        "\n",
        "metrics = tf.keras.metrics.MeanSquaredError()\n"
      ],
      "execution_count": 17,
      "outputs": [
        {
          "output_type": "stream",
          "name": "stdout",
          "text": [
            "Model: \"model\"\n",
            "_________________________________________________________________\n",
            " Layer (type)                Output Shape              Param #   \n",
            "=================================================================\n",
            " input_1 (InputLayer)        [(None, 1, 50)]           0         \n",
            "                                                                 \n",
            " lstm (LSTM)                 (None, 128)               91648     \n",
            "                                                                 \n",
            " dense (Dense)               (None, 1)                 129       \n",
            "                                                                 \n",
            "=================================================================\n",
            "Total params: 91,777\n",
            "Trainable params: 91,777\n",
            "Non-trainable params: 0\n",
            "_________________________________________________________________\n"
          ]
        }
      ]
    },
    {
      "cell_type": "code",
      "metadata": {
        "id": "Cy6nV7WXTh_S",
        "colab": {
          "base_uri": "https://localhost:8080/"
        },
        "outputId": "059accf8-201c-4392-cd6e-cb5627616996"
      },
      "source": [
        "batchsize = 120\n",
        "\n",
        "epochs =  15\n",
        "\n",
        "# Fit model\n",
        "model.compile(optimizer=opt, loss=loss, metrics=metrics)\n",
        "history = model.fit(X_train, y_train, batch_size=batchsize, epochs=epochs, validation_split=0.2, shuffle=False)"
      ],
      "execution_count": 18,
      "outputs": [
        {
          "output_type": "stream",
          "name": "stdout",
          "text": [
            "Epoch 1/15\n",
            "14/14 [==============================] - 6s 52ms/step - loss: 0.0010 - mean_squared_error: 0.0010 - val_loss: 8.4927e-04 - val_mean_squared_error: 8.4927e-04\n",
            "Epoch 2/15\n",
            "14/14 [==============================] - 0s 8ms/step - loss: 0.0017 - mean_squared_error: 0.0017 - val_loss: 6.6424e-04 - val_mean_squared_error: 6.6424e-04\n",
            "Epoch 3/15\n",
            "14/14 [==============================] - 0s 8ms/step - loss: 0.0019 - mean_squared_error: 0.0019 - val_loss: 0.0011 - val_mean_squared_error: 0.0011\n",
            "Epoch 4/15\n",
            "14/14 [==============================] - 0s 8ms/step - loss: 9.9929e-04 - mean_squared_error: 9.9929e-04 - val_loss: 6.4590e-04 - val_mean_squared_error: 6.4590e-04\n",
            "Epoch 5/15\n",
            "14/14 [==============================] - 0s 7ms/step - loss: 5.4790e-04 - mean_squared_error: 5.4790e-04 - val_loss: 6.8344e-04 - val_mean_squared_error: 6.8344e-04\n",
            "Epoch 6/15\n",
            "14/14 [==============================] - 0s 8ms/step - loss: 3.4776e-04 - mean_squared_error: 3.4776e-04 - val_loss: 3.9982e-04 - val_mean_squared_error: 3.9982e-04\n",
            "Epoch 7/15\n",
            "14/14 [==============================] - 0s 7ms/step - loss: 3.0818e-04 - mean_squared_error: 3.0818e-04 - val_loss: 3.9294e-04 - val_mean_squared_error: 3.9294e-04\n",
            "Epoch 8/15\n",
            "14/14 [==============================] - 0s 7ms/step - loss: 2.7641e-04 - mean_squared_error: 2.7641e-04 - val_loss: 3.4637e-04 - val_mean_squared_error: 3.4637e-04\n",
            "Epoch 9/15\n",
            "14/14 [==============================] - 0s 7ms/step - loss: 2.5165e-04 - mean_squared_error: 2.5165e-04 - val_loss: 3.2056e-04 - val_mean_squared_error: 3.2056e-04\n",
            "Epoch 10/15\n",
            "14/14 [==============================] - 0s 7ms/step - loss: 2.2869e-04 - mean_squared_error: 2.2869e-04 - val_loss: 2.9359e-04 - val_mean_squared_error: 2.9359e-04\n",
            "Epoch 11/15\n",
            "14/14 [==============================] - 0s 8ms/step - loss: 2.0780e-04 - mean_squared_error: 2.0780e-04 - val_loss: 2.7018e-04 - val_mean_squared_error: 2.7018e-04\n",
            "Epoch 12/15\n",
            "14/14 [==============================] - 0s 9ms/step - loss: 1.8929e-04 - mean_squared_error: 1.8929e-04 - val_loss: 2.4892e-04 - val_mean_squared_error: 2.4892e-04\n",
            "Epoch 13/15\n",
            "14/14 [==============================] - 0s 8ms/step - loss: 1.7251e-04 - mean_squared_error: 1.7251e-04 - val_loss: 2.3071e-04 - val_mean_squared_error: 2.3071e-04\n",
            "Epoch 14/15\n",
            "14/14 [==============================] - 0s 8ms/step - loss: 1.5821e-04 - mean_squared_error: 1.5821e-04 - val_loss: 2.1383e-04 - val_mean_squared_error: 2.1383e-04\n",
            "Epoch 15/15\n",
            "14/14 [==============================] - 0s 8ms/step - loss: 1.4520e-04 - mean_squared_error: 1.4520e-04 - val_loss: 2.0073e-04 - val_mean_squared_error: 2.0073e-04\n"
          ]
        }
      ]
    },
    {
      "cell_type": "code",
      "metadata": {
        "id": "_ymO0e_oTh_S",
        "colab": {
          "base_uri": "https://localhost:8080/",
          "height": 295
        },
        "outputId": "0c53c8a0-64b3-491f-b010-2b07bef25704"
      },
      "source": [
        "# Plot the Model loss\n",
        "\n",
        "plt.plot([x+1 for x in range(epochs)], history.history['loss'])\n",
        "plt.plot([x+1 for x in range(epochs)], history.history['val_loss'])\n",
        "plt.title('Model Loss')\n",
        "plt.ylabel('Loss')\n",
        "plt.xlabel('Epochs')\n",
        "plt.legend(['train', 'test'])\n",
        "plt.show()"
      ],
      "execution_count": 19,
      "outputs": [
        {
          "output_type": "display_data",
          "data": {
            "image/png": "[encoded data removed]",
            "text/plain": [
              "<Figure size 432x288 with 1 Axes>"
            ]
          },
          "metadata": {
            "needs_background": "light"
          }
        }
      ]
    },
    {
      "cell_type": "markdown",
      "metadata": {
        "id": "bZPc1zwFUWmv"
      },
      "source": [
        "### Part d) More Advanced RNN Model (15 points)\n",
        "In this part you will create an RNN model with the number of layers and architerure you prefer. Train it on your training data. You will also plot training and validation loss. Again, use mean squared error as your metric. In this part, you can try different models and use different hyper-parameters and report only the best one."
      ]
    },
    {
      "cell_type": "markdown",
      "metadata": {
        "id": "vsDP4F6RUWmx"
      },
      "source": [
        "Compile your model and display the summary:"
      ]
    },
    {
      "cell_type": "code",
      "metadata": {
        "id": "VJqARE-aUWmx",
        "colab": {
          "base_uri": "https://localhost:8080/"
        },
        "outputId": "d2eae08e-f321-4839-cd80-c935bb82d8d8"
      },
      "source": [
        "# Build your model\n",
        "input = Input(shape=(1,time_steps))\n",
        "x = GRU(128)(input)\n",
        "x = Dense(200, activation='relu')(x)\n",
        "x = Dropout(0.3)(x)\n",
        "x = Dense(1)(x)\n",
        "model = Model(input, x)\n",
        "\n",
        "model.summary()\n",
        "\n",
        "loss = tf.keras.losses.MeanSquaredError()\n",
        "\n",
        "opt = tf.keras.optimizers.Adam(2e-4)\n",
        "\n",
        "metrics = tf.keras.metrics.MeanSquaredError()"
      ],
      "execution_count": 20,
      "outputs": [
        {
          "output_type": "stream",
          "name": "stdout",
          "text": [
            "Model: \"model_1\"\n",
            "_________________________________________________________________\n",
            " Layer (type)                Output Shape              Param #   \n",
            "=================================================================\n",
            " input_2 (InputLayer)        [(None, 1, 50)]           0         \n",
            "                                                                 \n",
            " gru (GRU)                   (None, 128)               69120     \n",
            "                                                                 \n",
            " dense_1 (Dense)             (None, 200)               25800     \n",
            "                                                                 \n",
            " dropout (Dropout)           (None, 200)               0         \n",
            "                                                                 \n",
            " dense_2 (Dense)             (None, 1)                 201       \n",
            "                                                                 \n",
            "=================================================================\n",
            "Total params: 95,121\n",
            "Trainable params: 95,121\n",
            "Non-trainable params: 0\n",
            "_________________________________________________________________\n"
          ]
        }
      ]
    },
    {
      "cell_type": "code",
      "metadata": {
        "id": "kuloKr8QUWmy",
        "colab": {
          "base_uri": "https://localhost:8080/"
        },
        "outputId": "463713d9-518c-4c3e-b5a9-c11cd9a0f814"
      },
      "source": [
        "batchsize = 200\n",
        "\n",
        "epochs =  30\n",
        "\n",
        "# Fit model\n",
        "model.compile(optimizer=opt, loss=loss, metrics=metrics)\n",
        "history = model.fit(X_train, y_train, batch_size=batchsize, epochs=epochs, validation_split=0.2, shuffle=False)"
      ],
      "execution_count": 21,
      "outputs": [
        {
          "output_type": "stream",
          "name": "stdout",
          "text": [
            "Epoch 1/30\n",
            "9/9 [==============================] - 3s 73ms/step - loss: 0.0030 - mean_squared_error: 0.0030 - val_loss: 0.0048 - val_mean_squared_error: 0.0048\n",
            "Epoch 2/30\n",
            "9/9 [==============================] - 0s 8ms/step - loss: 7.7983e-04 - mean_squared_error: 7.7983e-04 - val_loss: 5.3655e-04 - val_mean_squared_error: 5.3655e-04\n",
            "Epoch 3/30\n",
            "9/9 [==============================] - 0s 9ms/step - loss: 7.1721e-04 - mean_squared_error: 7.1721e-04 - val_loss: 3.9155e-04 - val_mean_squared_error: 3.9155e-04\n",
            "Epoch 4/30\n",
            "9/9 [==============================] - 0s 12ms/step - loss: 4.6698e-04 - mean_squared_error: 4.6698e-04 - val_loss: 3.1973e-04 - val_mean_squared_error: 3.1973e-04\n",
            "Epoch 5/30\n",
            "9/9 [==============================] - 0s 8ms/step - loss: 3.2713e-04 - mean_squared_error: 3.2713e-04 - val_loss: 3.4658e-04 - val_mean_squared_error: 3.4658e-04\n",
            "Epoch 6/30\n",
            "9/9 [==============================] - 0s 8ms/step - loss: 3.5787e-04 - mean_squared_error: 3.5787e-04 - val_loss: 2.9516e-04 - val_mean_squared_error: 2.9516e-04\n",
            "Epoch 7/30\n",
            "9/9 [==============================] - 0s 8ms/step - loss: 3.5230e-04 - mean_squared_error: 3.5230e-04 - val_loss: 2.3052e-04 - val_mean_squared_error: 2.3052e-04\n",
            "Epoch 8/30\n",
            "9/9 [==============================] - 0s 9ms/step - loss: 3.0376e-04 - mean_squared_error: 3.0376e-04 - val_loss: 2.2044e-04 - val_mean_squared_error: 2.2044e-04\n",
            "Epoch 9/30\n",
            "9/9 [==============================] - 0s 7ms/step - loss: 2.8005e-04 - mean_squared_error: 2.8005e-04 - val_loss: 2.2139e-04 - val_mean_squared_error: 2.2139e-04\n",
            "Epoch 10/30\n",
            "9/9 [==============================] - 0s 9ms/step - loss: 2.6309e-04 - mean_squared_error: 2.6309e-04 - val_loss: 1.8415e-04 - val_mean_squared_error: 1.8415e-04\n",
            "Epoch 11/30\n",
            "9/9 [==============================] - 0s 9ms/step - loss: 2.3043e-04 - mean_squared_error: 2.3043e-04 - val_loss: 1.7596e-04 - val_mean_squared_error: 1.7596e-04\n",
            "Epoch 12/30\n",
            "9/9 [==============================] - 0s 9ms/step - loss: 2.3238e-04 - mean_squared_error: 2.3238e-04 - val_loss: 1.7576e-04 - val_mean_squared_error: 1.7576e-04\n",
            "Epoch 13/30\n",
            "9/9 [==============================] - 0s 8ms/step - loss: 2.0075e-04 - mean_squared_error: 2.0075e-04 - val_loss: 1.6330e-04 - val_mean_squared_error: 1.6330e-04\n",
            "Epoch 14/30\n",
            "9/9 [==============================] - 0s 9ms/step - loss: 2.1156e-04 - mean_squared_error: 2.1156e-04 - val_loss: 1.4784e-04 - val_mean_squared_error: 1.4784e-04\n",
            "Epoch 15/30\n",
            "9/9 [==============================] - 0s 10ms/step - loss: 1.9216e-04 - mean_squared_error: 1.9216e-04 - val_loss: 1.4159e-04 - val_mean_squared_error: 1.4159e-04\n",
            "Epoch 16/30\n",
            "9/9 [==============================] - 0s 10ms/step - loss: 1.9224e-04 - mean_squared_error: 1.9224e-04 - val_loss: 1.3937e-04 - val_mean_squared_error: 1.3937e-04\n",
            "Epoch 17/30\n",
            "9/9 [==============================] - 0s 11ms/step - loss: 1.9092e-04 - mean_squared_error: 1.9092e-04 - val_loss: 1.2768e-04 - val_mean_squared_error: 1.2768e-04\n",
            "Epoch 18/30\n",
            "9/9 [==============================] - 0s 10ms/step - loss: 1.6632e-04 - mean_squared_error: 1.6632e-04 - val_loss: 1.3144e-04 - val_mean_squared_error: 1.3144e-04\n",
            "Epoch 19/30\n",
            "9/9 [==============================] - 0s 9ms/step - loss: 1.8704e-04 - mean_squared_error: 1.8704e-04 - val_loss: 1.2519e-04 - val_mean_squared_error: 1.2519e-04\n",
            "Epoch 20/30\n",
            "9/9 [==============================] - 0s 9ms/step - loss: 1.9659e-04 - mean_squared_error: 1.9659e-04 - val_loss: 1.1928e-04 - val_mean_squared_error: 1.1928e-04\n",
            "Epoch 21/30\n",
            "9/9 [==============================] - 0s 8ms/step - loss: 1.8731e-04 - mean_squared_error: 1.8731e-04 - val_loss: 1.2171e-04 - val_mean_squared_error: 1.2171e-04\n",
            "Epoch 22/30\n",
            "9/9 [==============================] - 0s 9ms/step - loss: 1.4805e-04 - mean_squared_error: 1.4805e-04 - val_loss: 1.2120e-04 - val_mean_squared_error: 1.2120e-04\n",
            "Epoch 23/30\n",
            "9/9 [==============================] - 0s 8ms/step - loss: 1.9144e-04 - mean_squared_error: 1.9144e-04 - val_loss: 1.1059e-04 - val_mean_squared_error: 1.1059e-04\n",
            "Epoch 24/30\n",
            "9/9 [==============================] - 0s 8ms/step - loss: 1.4274e-04 - mean_squared_error: 1.4274e-04 - val_loss: 1.1371e-04 - val_mean_squared_error: 1.1371e-04\n",
            "Epoch 25/30\n",
            "9/9 [==============================] - 0s 9ms/step - loss: 1.8031e-04 - mean_squared_error: 1.8031e-04 - val_loss: 1.0755e-04 - val_mean_squared_error: 1.0755e-04\n",
            "Epoch 26/30\n",
            "9/9 [==============================] - 0s 8ms/step - loss: 1.6110e-04 - mean_squared_error: 1.6110e-04 - val_loss: 1.0511e-04 - val_mean_squared_error: 1.0511e-04\n",
            "Epoch 27/30\n",
            "9/9 [==============================] - 0s 10ms/step - loss: 1.4593e-04 - mean_squared_error: 1.4593e-04 - val_loss: 1.1763e-04 - val_mean_squared_error: 1.1763e-04\n",
            "Epoch 28/30\n",
            "9/9 [==============================] - 0s 10ms/step - loss: 1.4570e-04 - mean_squared_error: 1.4570e-04 - val_loss: 1.0269e-04 - val_mean_squared_error: 1.0269e-04\n",
            "Epoch 29/30\n",
            "9/9 [==============================] - 0s 10ms/step - loss: 1.2587e-04 - mean_squared_error: 1.2587e-04 - val_loss: 1.0563e-04 - val_mean_squared_error: 1.0563e-04\n",
            "Epoch 30/30\n",
            "9/9 [==============================] - 0s 8ms/step - loss: 1.3706e-04 - mean_squared_error: 1.3706e-04 - val_loss: 9.8350e-05 - val_mean_squared_error: 9.8350e-05\n"
          ]
        }
      ]
    },
    {
      "cell_type": "code",
      "metadata": {
        "id": "WiIh66vMUWmy",
        "colab": {
          "base_uri": "https://localhost:8080/",
          "height": 295
        },
        "outputId": "5ba01d8f-24ca-4400-b73c-65c2cc2c788f"
      },
      "source": [
        "# Plot the Model loss\n",
        "\n",
        "plt.plot([x+1 for x in range(epochs)], history.history['loss'])\n",
        "plt.plot([x+1 for x in range(epochs)], history.history['val_loss'])\n",
        "plt.title('Model Loss')\n",
        "plt.ylabel('Loss')\n",
        "plt.xlabel('Epochs')\n",
        "plt.legend(['train', 'test'])\n",
        "plt.show()"
      ],
      "execution_count": 22,
      "outputs": [
        {
          "output_type": "display_data",
          "data": {
            "image/png": "[encoded data removed]",
            "text/plain": [
              "<Figure size 432x288 with 1 Axes>"
            ]
          },
          "metadata": {
            "needs_background": "light"
          }
        }
      ]
    },
    {
      "cell_type": "markdown",
      "metadata": {
        "id": "GkDcoN3CUWmy"
      },
      "source": [
        "### Part e) Looking at the Predictions (10 points)\n",
        "Now, Using the final (best) model you trained, show your model's performance on the test set. Plot the model's prediction for Bitcoin Price along with the actual test set prices. Lastly, note how your model's predictions change with your model's architecture and the number of days you \"look back\". Does your model perform better with more \"look back days\" or less. Did adding more layers help? Does your model use dropout or batchnormalization?\n",
        "\n",
        "**Note:** Your model is trained on normalized data. Inorder to transform your model's predictions to the original price range you will likely need to use sklearn's inverse_transform (https://scikit-learn.org/stable/modules/generated/sklearn.preprocessing.StandardScaler.html)"
      ]
    },
    {
      "cell_type": "code",
      "metadata": {
        "id": "m7dZ2Of1R4kI",
        "colab": {
          "base_uri": "https://localhost:8080/",
          "height": 283
        },
        "outputId": "308b360c-43db-44a4-fae3-acade4cfabd9"
      },
      "source": [
        "test_size = len(X_test)\n",
        "predict_bitcoin = model.predict(X_test)\n",
        "predict_bitcoin = scaler.inverse_transform(predict_bitcoin)\n",
        "old_y = scaler.inverse_transform(y_test.reshape(-1,1))\n",
        "sns.lineplot(x = np.linspace(1,test_size,test_size), y = old_y.reshape(-1))\n",
        "sns.lineplot(x = np.linspace(1,test_size,test_size), y = predict_bitcoin.flatten())"
      ],
      "execution_count": 23,
      "outputs": [
        {
          "output_type": "execute_result",
          "data": {
            "text/plain": [
              "<matplotlib.axes._subplots.AxesSubplot at 0x7f1f201d3a90>"
            ]
          },
          "metadata": {},
          "execution_count": 23
        },
        {
          "output_type": "display_data",
          "data": {
            "image/png": "[encoded data removed]",
            "text/plain": [
              "<Figure size 432x288 with 1 Axes>"
            ]
          },
          "metadata": {
            "needs_background": "light"
          }
        }
      ]
    },
    {
      "cell_type": "markdown",
      "metadata": {
        "id": "1to7eXUQNbDd"
      },
      "source": [
        "For this model, as the number of days \"looked back\" increases, the more the RNN prediction seem to match the trend of the test set. With looking back lower time steps, the less the prediction curve followed the fluctuations of the test curve, meaning that perhaps the model generalizes too much when looking too close on recent data. Since looking back farther allows the model to understand the growth trend of the bitcoin prices, it is able to make more accurate predictions for future prices. It appears that adding more layers does improve the validation mean-squared error values, but only a few additions with tweaked values outputted the best result. Changing the parameters of the ```Dense``` layers, learning rate, dropout rate, and the type of memory cell used were the main determining factors.  My model uses ```Dropout``` layers to improve the model's ability to learn the parameters but not ```BatchNormalization``` layers. "
      ]
    },
    {
      "cell_type": "markdown",
      "metadata": {
        "id": "fLJDlFbyfmj5"
      },
      "source": [
        "## Question 2: Reuters Topic Classification\n",
        "---\n",
        "We will use the [Reuters newswire](https://keras.io/api/datasets/reuters/) classification dataset, which has text paired with 46 topics as labels. You can see what these labels represent [here](https://martin-thoma.com/nlp-reuters/). You will analyze the text and classify the text into one of the 46 classes. Classes are the defined based on the following list (in the same order):\n",
        ">```\n",
        "['cocoa','grain','veg-oil','earn','acq','wheat','copper',\n",
        "'housing','money-supply','coffee','sugar','trade','reserves',\n",
        "'ship','cotton','carcass','crude','nat-gas','cpi','money-fx',\n",
        "'interest','gnp','meal-feed','alum','oilseed','gold','tin',\n",
        "'strategic-metal','livestock','retail','ipi','iron-steel',\n",
        "'rubber','heat','jobs','lei','bop','zinc','orange',\n",
        "'pet-chem','dlr','gas','silver','wpi','hog','lead']\n",
        "```\n",
        "\n"
      ]
    },
    {
      "cell_type": "markdown",
      "metadata": {
        "id": "NyiOu4LzgAur"
      },
      "source": [
        "### Part a) Processing the Data (5 points)\n",
        "Load the data simply from Keras: https://www.tensorflow.org/api_docs/python/tf/keras/datasets/reuters/load_data.\n",
        "You also need to follow the RNN handout from the class exercise and prepare encoding and decoding functions and any other pre-processing you might find useful.\n",
        "\n",
        "Print 5 examples of news along with their class label. "
      ]
    },
    {
      "cell_type": "code",
      "metadata": {
        "id": "PnzsyAmwvImD",
        "colab": {
          "base_uri": "https://localhost:8080/"
        },
        "outputId": "ec211623-4a6b-40e0-9cc4-aa2e20fe4b19"
      },
      "source": [
        "from tensorflow.keras.datasets import reuters\n",
        "from tensorflow.keras.preprocessing.sequence import pad_sequences\n",
        "from keras.utils.np_utils import to_categorical\n",
        "\n",
        "import textwrap\n",
        "# Load data\n",
        "max_seq = 1500\n",
        "(X, y), (_, _) = reuters.load_data(test_split=0, maxlen=max_seq) ## we want to split it later\n",
        "\n",
        "# Clean and pre-process the data\n",
        "word_dict = reuters.get_word_index()\n",
        "word_dict = {k:(v+3) for k,v in word_dict.items()}\n",
        "word_dict[\"<PAD>\"] = 0\n",
        "word_dict[\"<START>\"] = 1\n",
        "word_dict[\"<UNK>\"] = 2\n",
        "word_dict[\"<UNUSED>\"] = 3\n",
        "\n",
        "vocab_len = len(word_dict)\n",
        "inverse_word_dict = {v:k for k,v in word_dict.items()}\n",
        "X = pad_sequences(X, maxlen=max_seq)\n",
        "\n",
        "def encode_text(news, word_dict, maxlen):\n",
        "  text = []\n",
        "  for raw in news.split(' '):\n",
        "    word = raw.strip().strip(string.punctuation).lower()\n",
        "    if word is '' or word is '\\n':\n",
        "      continue\n",
        "    try:\n",
        "      text.append(word_dict[word])\n",
        "    except KeyError as e:\n",
        "      # raise KeyError(f'{e} not in word dictionary, review not encoded.')\n",
        "      continue\n",
        "  return pad_sequences(np.array(text).reshape(1,-1), maxlen=maxlen)\n",
        "\n",
        "def decode_text(encoded_news, inverse_word_dict):\n",
        "  sentence = []\n",
        "  for encoded_word in encoded_news:\n",
        "    if encoded_word == 0:\n",
        "      continue\n",
        "    sentence.append(inverse_word_dict[encoded_word])\n",
        "  \n",
        "  w = textwrap.TextWrapper(width=120,break_long_words=False,replace_whitespace=False)\n",
        "  return '\\n'.join(w.wrap(' '.join(sentence)))\n",
        "\n",
        "# Print sample data\n",
        "indexes = [3,70,127,488, 600] # arbitrary sample indicies\n",
        "for i in indexes:\n",
        "  print(f\"News: {decode_text(X[i], inverse_word_dict)}\")\n",
        "  print(f\"Label: {y[i]} \\n\\n\")"
      ],
      "execution_count": 24,
      "outputs": [
        {
          "output_type": "stream",
          "name": "stdout",
          "text": [
            "Downloading data from https://storage.googleapis.com/tensorflow/tf-keras-datasets/reuters.npz\n",
            "2113536/2110848 [==============================] - 0s 0us/step\n",
            "2121728/2110848 [==============================] - 0s 0us/step\n",
            "Downloading data from https://storage.googleapis.com/tensorflow/tf-keras-datasets/reuters_word_index.json\n",
            "557056/550378 [==============================] - 0s 0us/step\n",
            "565248/550378 [==============================] - 0s 0us/step\n",
            "News: <START> the farmers home administration the u s agriculture department's farm lending arm could lose about seven billion\n",
            "dlrs in outstanding principal on its severely delinquent borrowers or about one fourth of its farm loan portfolio the\n",
            "general accounting office gao said in remarks prepared for delivery to the senate agriculture committee brian crowley\n",
            "senior associate director of gao also said that a preliminary analysis of proposed changes in fmha's financial\n",
            "eligibility standards indicated as many as one half of fmha borrowers who received new loans from the agency in 1986\n",
            "would be ineligible under the proposed system the agency has proposed evaluating applicants' credit using a variety of\n",
            "financial ratios instead of relying solely on cashflow ability senate agriculture committee chairman patrick leahy d vt\n",
            "slammed the proposed eligibility changes telling fmha administrator vance clark at a hearing that they would mark a\n",
            "dramatic shift in the agency's purpose away from being farmers' lender of last resort toward becoming a big city bank\n",
            "but clark defended the new regulations saying the agency had a responsibility to administer its 70 billion dlr loan\n",
            "portfolio in a compassionate yet judicious manner crowley of gao congress' investigative arm said the proposed credit\n",
            "scoring system attempted to ensure that fmha would make loans only to borrowers who had a reasonable change of repaying\n",
            "their debt reuter 3\n",
            "Label: 4 \n",
            "\n",
            "\n",
            "News: <START> northgate exploration ltd said hourly paid workers at its two chibougamau quebec mines voted on the weekend to\n",
            "accept a new three year contract offer and returned to work today after a one month strike it said the workers\n",
            "represented by united steelworkers of america would receive a 1 21 dlr an hour pay raise over the life of the new\n",
            "contract and improved benefits northgate which produced 23 400 ounces of gold in first quarter said that while the\n",
            "strike slowed production we are still looking forward to a very satisfactory performance the chibougamau mines produced\n",
            "81 500 ounces of gold last year reuter 3\n",
            "Label: 25 \n",
            "\n",
            "\n",
            "News: <START> finance minister kiichi miyazawa said the paris currency accord has contributed to the stability of exchange\n",
            "rates miyazawa told a press conference the agreement reached last month in paris by six major industrial nations to\n",
            "cooperate in bringing about currency stability has prevented speculative concerns from being active in money centres the\n",
            "decision in paris is being understood by the market he said the yen dollar exchange rate has been moving in a narrow\n",
            "range since finance ministers of britain canada france japan the u s and west germany reached the accord reuter 3\n",
            "Label: 19 \n",
            "\n",
            "\n",
            "News: <START> seton co said its board of directors unanimously approved an agreement and plan of merger providing for the\n",
            "merger of seton with a unit of s acquisition corp a new jersey company seton said its board of directors unanimously\n",
            "approved the merger in a meeting held today seton said the agreement and plan of merger provides that all shares of\n",
            "seton co common stock not held by s acquisition corp or its units will be converted upon the merger into the right to\n",
            "receive 15 88 dlrs per share in cash reuter 3\n",
            "Label: 4 \n",
            "\n",
            "\n",
            "News: <START> a plan by european producers to sell 854 000 tonnes of sugar to european community intervention stocks still\n",
            "stands andrea minguzzi an official at french sugar producer beghin say said last week beghin say president jean marc\n",
            "vernes said a possible settlement of a row with the ec would lead producers to withdraw their offer which was made as a\n",
            "protest against ec export licensing policies the ec policy is to offer export rebates which fail to give producers an\n",
            "equivalent price to that which they would get by offering sugar into intervention stocks vernes said but minguzzi said\n",
            "the offer was a commercial affair and that producers had no intention of withdrawing the sugar offer already lodged with\n",
            "intervention boards of different european countries he said final quality approval for all the sugar offered could come\n",
            "later this week some 95 pct had already cleared quality specifications the ec can only reject an offer to sell into\n",
            "intervention stocks on quality grounds minguzzi added that under ec regulations the community has until early may to pay\n",
            "for the sugar he declined to put an exact figure on the amount of sugar offered by beghin say but said it was below 500\n",
            "000 tonnes reuter 3\n",
            "Label: 10 \n",
            "\n",
            "\n"
          ]
        }
      ]
    },
    {
      "cell_type": "markdown",
      "metadata": {
        "id": "YarxnZSMgtrF"
      },
      "source": [
        "### Part b) Data Partitioning (5 points)\n",
        "\n",
        "Split data into train and test sets. Please use 80% for training and 20% for testing. Note that we want to have the same distribution of labels in the training and test set, so you can use stratified train-test split of Keras. See here: https://scikit-learn.org/stable/modules/generated/sklearn.model_selection.train_test_split.html"
      ]
    },
    {
      "cell_type": "code",
      "metadata": {
        "id": "dM3fOjNG0ybv"
      },
      "source": [
        "X_train, X_test, y_train, y_test = train_test_split(X, y, test_size=0.2, stratify=y)\n",
        "y_labels = y_test\n",
        "y_train = to_categorical(y_train)\n",
        "y_test = to_categorical(y_test)\n",
        "X_train = pad_sequences(X_train)\n",
        "X_test = pad_sequences(X_test)"
      ],
      "execution_count": 25,
      "outputs": []
    },
    {
      "cell_type": "markdown",
      "metadata": {
        "id": "Lp8HvntUTzwW"
      },
      "source": [
        "### Part c) Simple RNN Model (15 points)\n",
        "\n",
        "Create a model using an RNN layer (LSTM or GRU, unidirectional or bidirectional) and train it on your training data. You will also plot training and validation loss and your accuracy metric."
      ]
    },
    {
      "cell_type": "markdown",
      "metadata": {
        "id": "-L2aeGG9KS7w"
      },
      "source": [
        "Compile your model and display the summary:"
      ]
    },
    {
      "cell_type": "code",
      "metadata": {
        "id": "09k-v7zVzUXj",
        "colab": {
          "base_uri": "https://localhost:8080/"
        },
        "outputId": "9dc69c07-efa8-4634-d186-1340d14eae12"
      },
      "source": [
        "# Build your model\n",
        "from tensorflow.keras.layers import Embedding, Dense, Dropout, Input, LSTM, BatchNormalization, GRU\n",
        "\n",
        "input = Input(shape=(max_seq))\n",
        "x = Embedding(vocab_len, 80)(input)\n",
        "x = LSTM(70)(x)\n",
        "x = Dense(200, activation='relu')(x)\n",
        "x = Dense(46, activation='softmax')(x)\n",
        "reuters_model = Model(input, x)\n",
        "\n",
        "loss = tf.keras.losses.CategoricalCrossentropy()\n",
        "\n",
        "opt = tf.keras.optimizers.Adam(2e-4)\n",
        "\n",
        "metrics = ['accuracy']\n",
        "\n",
        "reuters_model.compile(loss=loss,\n",
        "              optimizer=opt,\n",
        "              metrics=metrics)\n",
        "\n",
        "reuters_model.summary()"
      ],
      "execution_count": 26,
      "outputs": [
        {
          "output_type": "stream",
          "name": "stdout",
          "text": [
            "Model: \"model_2\"\n",
            "_________________________________________________________________\n",
            " Layer (type)                Output Shape              Param #   \n",
            "=================================================================\n",
            " input_3 (InputLayer)        [(None, 1500)]            0         \n",
            "                                                                 \n",
            " embedding (Embedding)       (None, 1500, 80)          2478640   \n",
            "                                                                 \n",
            " lstm_1 (LSTM)               (None, 70)                42280     \n",
            "                                                                 \n",
            " dense_3 (Dense)             (None, 200)               14200     \n",
            "                                                                 \n",
            " dense_4 (Dense)             (None, 46)                9246      \n",
            "                                                                 \n",
            "=================================================================\n",
            "Total params: 2,544,366\n",
            "Trainable params: 2,544,366\n",
            "Non-trainable params: 0\n",
            "_________________________________________________________________\n"
          ]
        }
      ]
    },
    {
      "cell_type": "code",
      "metadata": {
        "id": "mthwaqCrzvM3",
        "colab": {
          "base_uri": "https://localhost:8080/"
        },
        "outputId": "a1094a71-201b-4ec0-8a13-23617ee2e388"
      },
      "source": [
        "batchsize = 16\n",
        "epochs =  7\n",
        "\n",
        "# Fit model\n",
        "history = reuters_model.fit(X_train, y_train, batch_size=batchsize, epochs=epochs, validation_split=0.2, shuffle=True)"
      ],
      "execution_count": 27,
      "outputs": [
        {
          "output_type": "stream",
          "name": "stdout",
          "text": [
            "Epoch 1/7\n",
            "449/449 [==============================] - 84s 182ms/step - loss: 2.5089 - accuracy: 0.3582 - val_loss: 1.8630 - val_accuracy: 0.4671\n",
            "Epoch 2/7\n",
            "449/449 [==============================] - 81s 180ms/step - loss: 1.8160 - accuracy: 0.5155 - val_loss: 1.6787 - val_accuracy: 0.5440\n",
            "Epoch 3/7\n",
            "449/449 [==============================] - 81s 181ms/step - loss: 1.7216 - accuracy: 0.5103 - val_loss: 1.6463 - val_accuracy: 0.5529\n",
            "Epoch 4/7\n",
            "449/449 [==============================] - 81s 181ms/step - loss: 1.5665 - accuracy: 0.5664 - val_loss: 1.6155 - val_accuracy: 0.5702\n",
            "Epoch 5/7\n",
            "449/449 [==============================] - 81s 181ms/step - loss: 1.4810 - accuracy: 0.5823 - val_loss: 1.6970 - val_accuracy: 0.5351\n",
            "Epoch 6/7\n",
            "449/449 [==============================] - 81s 181ms/step - loss: 1.3687 - accuracy: 0.6148 - val_loss: 1.6319 - val_accuracy: 0.5690\n",
            "Epoch 7/7\n",
            "449/449 [==============================] - 82s 182ms/step - loss: 1.2887 - accuracy: 0.6388 - val_loss: 1.6313 - val_accuracy: 0.5869\n"
          ]
        }
      ]
    },
    {
      "cell_type": "code",
      "metadata": {
        "id": "cBzaRs9hrQsh",
        "colab": {
          "base_uri": "https://localhost:8080/",
          "height": 573
        },
        "outputId": "ed4709f4-7659-4ecc-ee6b-790f15802566"
      },
      "source": [
        "# Plot the Model loss\n",
        "plt.plot([x+1 for x in range(epochs)], history.history['loss'])\n",
        "plt.plot([x+1 for x in range(epochs)], history.history['val_loss'])\n",
        "plt.title('Model Loss')\n",
        "plt.ylabel('Loss')\n",
        "plt.xlabel('Epochs')\n",
        "plt.legend(['train', 'test'])\n",
        "plt.show()\n",
        "\n",
        "plt.plot([x+1 for x in range(epochs)], history.history['accuracy'])\n",
        "plt.plot([x+1 for x in range(epochs)], history.history['val_accuracy'])\n",
        "plt.title('Model Accuracy')\n",
        "plt.ylabel('Accuracy')\n",
        "plt.xlabel('Epochs')\n",
        "plt.legend(['train', 'test'])\n",
        "plt.ylim([0,1])\n",
        "plt.show()"
      ],
      "execution_count": 28,
      "outputs": [
        {
          "output_type": "display_data",
          "data": {
            "image/png": "[encoded data removed]",
            "text/plain": [
              "<Figure size 432x288 with 1 Axes>"
            ]
          },
          "metadata": {
            "needs_background": "light"
          }
        },
        {
          "output_type": "display_data",
          "data": {
            "image/png": "[encoded data removed]",
            "text/plain": [
              "<Figure size 432x288 with 1 Axes>"
            ]
          },
          "metadata": {
            "needs_background": "light"
          }
        }
      ]
    },
    {
      "cell_type": "markdown",
      "metadata": {
        "id": "-ONEJCKBa384"
      },
      "source": [
        "### Part d) More Advanced RNN Model (15 points)\n",
        "In this part you will create an RNN model with the number of layers and architerure you prefer. Train it on your training data. You will also plot training and validation loss and your metric. In this part, you can try different models and use different hyper-parameters and report only the best one."
      ]
    },
    {
      "cell_type": "markdown",
      "metadata": {
        "id": "ToO-cZbKa386"
      },
      "source": [
        "Compile your model and display the summary:"
      ]
    },
    {
      "cell_type": "code",
      "metadata": {
        "id": "FOo5_Rp6a386",
        "colab": {
          "base_uri": "https://localhost:8080/"
        },
        "outputId": "0f7c9057-3a8a-4f40-b31e-d8ce328b1a59"
      },
      "source": [
        "# Build your model\n",
        "\n",
        "input = Input(shape=(max_seq))\n",
        "x = Embedding(vocab_len, 150)(input)\n",
        "\n",
        "x = LSTM(40)(x)\n",
        "x = Dense(200, activation='relu')(x)\n",
        "x = Dropout(0.55)(x)\n",
        "x = Dense(90, activation='relu')(x)\n",
        "\n",
        "x = Dense(46, activation='softmax')(x)\n",
        "reuters_model = Model(input, x)\n",
        "\n",
        "loss = 'categorical_crossentropy'\n",
        "\n",
        "opt = tf.keras.optimizers.Adam(0.0029)\n",
        "\n",
        "metrics = ['accuracy']\n",
        "\n",
        "reuters_model.compile(loss=loss,\n",
        "              optimizer=opt,\n",
        "              metrics=metrics)\n",
        "\n",
        "reuters_model.summary()"
      ],
      "execution_count": 29,
      "outputs": [
        {
          "output_type": "stream",
          "name": "stdout",
          "text": [
            "Model: \"model_3\"\n",
            "_________________________________________________________________\n",
            " Layer (type)                Output Shape              Param #   \n",
            "=================================================================\n",
            " input_4 (InputLayer)        [(None, 1500)]            0         \n",
            "                                                                 \n",
            " embedding_1 (Embedding)     (None, 1500, 150)         4647450   \n",
            "                                                                 \n",
            " lstm_2 (LSTM)               (None, 40)                30560     \n",
            "                                                                 \n",
            " dense_5 (Dense)             (None, 200)               8200      \n",
            "                                                                 \n",
            " dropout_1 (Dropout)         (None, 200)               0         \n",
            "                                                                 \n",
            " dense_6 (Dense)             (None, 90)                18090     \n",
            "                                                                 \n",
            " dense_7 (Dense)             (None, 46)                4186      \n",
            "                                                                 \n",
            "=================================================================\n",
            "Total params: 4,708,486\n",
            "Trainable params: 4,708,486\n",
            "Non-trainable params: 0\n",
            "_________________________________________________________________\n"
          ]
        }
      ]
    },
    {
      "cell_type": "code",
      "metadata": {
        "id": "80rNRrDva387",
        "colab": {
          "base_uri": "https://localhost:8080/"
        },
        "outputId": "a1061725-b775-4655-a421-cb55995b1033"
      },
      "source": [
        "batchsize = 40\n",
        "epochs =  8\n",
        "\n",
        "# Fit model\n",
        "history = reuters_model.fit(X_train, y_train, batch_size=batchsize, epochs=epochs, validation_split=0.2, shuffle=True)"
      ],
      "execution_count": 30,
      "outputs": [
        {
          "output_type": "stream",
          "name": "stdout",
          "text": [
            "Epoch 1/8\n",
            "180/180 [==============================] - 32s 164ms/step - loss: 2.1489 - accuracy: 0.4407 - val_loss: 1.7136 - val_accuracy: 0.5356\n",
            "Epoch 2/8\n",
            "180/180 [==============================] - 29s 161ms/step - loss: 1.6686 - accuracy: 0.5548 - val_loss: 1.5693 - val_accuracy: 0.5846\n",
            "Epoch 3/8\n",
            "180/180 [==============================] - 29s 161ms/step - loss: 1.4264 - accuracy: 0.6217 - val_loss: 1.5812 - val_accuracy: 0.6024\n",
            "Epoch 4/8\n",
            "180/180 [==============================] - 29s 161ms/step - loss: 1.2122 - accuracy: 0.6790 - val_loss: 1.5536 - val_accuracy: 0.6320\n",
            "Epoch 5/8\n",
            "180/180 [==============================] - 29s 160ms/step - loss: 1.0233 - accuracy: 0.7229 - val_loss: 1.6193 - val_accuracy: 0.6570\n",
            "Epoch 6/8\n",
            "180/180 [==============================] - 29s 161ms/step - loss: 0.8669 - accuracy: 0.7586 - val_loss: 1.5638 - val_accuracy: 0.6581\n",
            "Epoch 7/8\n",
            "180/180 [==============================] - 29s 161ms/step - loss: 0.7323 - accuracy: 0.7961 - val_loss: 1.5755 - val_accuracy: 0.6643\n",
            "Epoch 8/8\n",
            "180/180 [==============================] - 29s 160ms/step - loss: 0.6300 - accuracy: 0.8175 - val_loss: 1.6051 - val_accuracy: 0.6609\n"
          ]
        }
      ]
    },
    {
      "cell_type": "code",
      "metadata": {
        "id": "8B_BKjzda387",
        "colab": {
          "base_uri": "https://localhost:8080/",
          "height": 573
        },
        "outputId": "e64e51b9-9d99-4fca-bdea-4fd80d784ae3"
      },
      "source": [
        "# Plot the Model loss\n",
        "plt.plot([x+1 for x in range(epochs)], history.history['loss'])\n",
        "plt.plot([x+1 for x in range(epochs)], history.history['val_loss'])\n",
        "plt.title('Model Loss')\n",
        "plt.ylabel('Loss')\n",
        "plt.xlabel('Epochs')\n",
        "plt.legend(['train', 'test'])\n",
        "plt.show()\n",
        "\n",
        "plt.plot([x+1 for x in range(epochs)], history.history['accuracy'])\n",
        "plt.plot([x+1 for x in range(epochs)], history.history['val_accuracy'])\n",
        "plt.title('Model Accuracy')\n",
        "plt.ylabel('Accuracy')\n",
        "plt.xlabel('Epochs')\n",
        "plt.legend(['train', 'test'])\n",
        "plt.ylim([0,1])\n",
        "plt.show()"
      ],
      "execution_count": 31,
      "outputs": [
        {
          "output_type": "display_data",
          "data": {
            "image/png": "[encoded data removed]",
            "text/plain": [
              "<Figure size 432x288 with 1 Axes>"
            ]
          },
          "metadata": {
            "needs_background": "light"
          }
        },
        {
          "output_type": "display_data",
          "data": {
            "image/png": "[encoded data removed]",
            "text/plain": [
              "<Figure size 432x288 with 1 Axes>"
            ]
          },
          "metadata": {
            "needs_background": "light"
          }
        }
      ]
    },
    {
      "cell_type": "markdown",
      "metadata": {
        "id": "dc7BEuccYvit"
      },
      "source": [
        "### Part e) Looking at the Predictions (10 points)\n",
        "\n",
        "Now, Using the final (best) model you trained, show your model's performance on the test set.\n",
        "Calculate and display the prediction accuracy for all of the 46 different classes. "
      ]
    },
    {
      "cell_type": "code",
      "metadata": {
        "id": "PyCzORLJELij",
        "colab": {
          "base_uri": "https://localhost:8080/"
        },
        "outputId": "be7511b0-a428-49da-a4f9-5587aada913f"
      },
      "source": [
        "num_classes = 46\n",
        "performance = reuters_model.evaluate(X_test, y_test)\n",
        "\n",
        "prediction = reuters_model.predict(X_test)\n",
        "classifications = np.array([np.argmax(i) for i in prediction])\n",
        "print(f\"Prediction Accuracy: {accuracy_score(classifications, y_labels)}\")"
      ],
      "execution_count": 32,
      "outputs": [
        {
          "output_type": "stream",
          "name": "stdout",
          "text": [
            "71/71 [==============================] - 5s 74ms/step - loss: 1.7020 - accuracy: 0.6509\n",
            "Prediction Accuracy: 0.6509349955476402\n"
          ]
        }
      ]
    },
    {
      "cell_type": "code",
      "metadata": {
        "colab": {
          "base_uri": "https://localhost:8080/",
          "height": 1000
        },
        "id": "zi5mnSO9FK5J",
        "outputId": "7f1634c8-3492-46b2-d6b9-1a257cb73860"
      },
      "source": [
        "total_correct = np.array([0] * num_classes)\n",
        "counts = np.bincount(y_labels)\n",
        "\n",
        "for i, label in enumerate(y_labels):\n",
        "  if classifications[i] == label:\n",
        "    total_correct[label]+=1\n",
        "\n",
        "accuracies = np.divide(total_correct, counts)\n",
        "\n",
        "for i, acc in enumerate(accuracies):\n",
        "  print(f\"Label: {i} Accuracy: {acc}\")\n",
        "\n",
        "plt.plot([x for x in range(num_classes)], accuracies)\n",
        "plt.title('Accuracy for all classes')\n",
        "plt.ylabel('Accuracy')\n",
        "plt.xlabel('Class Number')\n",
        "plt.ylim([-0.05,1])\n",
        "plt.show()"
      ],
      "execution_count": 33,
      "outputs": [
        {
          "output_type": "stream",
          "name": "stdout",
          "text": [
            "Label: 0 Accuracy: 0.0\n",
            "Label: 1 Accuracy: 0.7102803738317757\n",
            "Label: 2 Accuracy: 0.0\n",
            "Label: 3 Accuracy: 0.8930817610062893\n",
            "Label: 4 Accuracy: 0.797938144329897\n",
            "Label: 5 Accuracy: 0.0\n",
            "Label: 6 Accuracy: 0.0\n",
            "Label: 7 Accuracy: 0.0\n",
            "Label: 8 Accuracy: 0.2777777777777778\n",
            "Label: 9 Accuracy: 0.12\n",
            "Label: 10 Accuracy: 0.5161290322580645\n",
            "Label: 11 Accuracy: 0.5052631578947369\n",
            "Label: 12 Accuracy: 0.0\n",
            "Label: 13 Accuracy: 0.38095238095238093\n",
            "Label: 14 Accuracy: 0.0\n",
            "Label: 15 Accuracy: 0.0\n",
            "Label: 16 Accuracy: 0.3669724770642202\n",
            "Label: 17 Accuracy: 0.0\n",
            "Label: 18 Accuracy: 0.17647058823529413\n",
            "Label: 19 Accuracy: 0.5328467153284672\n",
            "Label: 20 Accuracy: 0.4852941176470588\n",
            "Label: 21 Accuracy: 0.34615384615384615\n",
            "Label: 22 Accuracy: 0.0\n",
            "Label: 23 Accuracy: 0.09090909090909091\n",
            "Label: 24 Accuracy: 0.3125\n",
            "Label: 25 Accuracy: 0.8\n",
            "Label: 26 Accuracy: 0.0\n",
            "Label: 27 Accuracy: 0.0\n",
            "Label: 28 Accuracy: 0.25\n",
            "Label: 29 Accuracy: 0.0\n",
            "Label: 30 Accuracy: 0.0\n",
            "Label: 31 Accuracy: 0.2\n",
            "Label: 32 Accuracy: 0.0\n",
            "Label: 33 Accuracy: 0.0\n",
            "Label: 34 Accuracy: 0.5454545454545454\n",
            "Label: 35 Accuracy: 0.0\n",
            "Label: 36 Accuracy: 0.08333333333333333\n",
            "Label: 37 Accuracy: 0.0\n",
            "Label: 38 Accuracy: 0.0\n",
            "Label: 39 Accuracy: 0.0\n",
            "Label: 40 Accuracy: 0.0\n",
            "Label: 41 Accuracy: 0.0\n",
            "Label: 42 Accuracy: 0.0\n",
            "Label: 43 Accuracy: 0.0\n",
            "Label: 44 Accuracy: 0.0\n",
            "Label: 45 Accuracy: 0.0\n"
          ]
        },
        {
          "output_type": "display_data",
          "data": {
            "image/png": "[encoded data removed]",
            "text/plain": [
              "<Figure size 432x288 with 1 Axes>"
            ]
          },
          "metadata": {
            "needs_background": "light"
          }
        }
      ]
    },
    {
      "cell_type": "code",
      "metadata": {
        "colab": {
          "base_uri": "https://localhost:8080/",
          "height": 573
        },
        "id": "729KQLG5BLPt",
        "outputId": "612a8100-b14c-4dea-d56a-8832e5d65508"
      },
      "source": [
        "ps = precision_score(classifications, y_labels, average=None)\n",
        "rs = recall_score(classifications, y_labels, zero_division=0, average=None)\n",
        "\n",
        "plt.plot([x for x in range(num_classes)], ps)\n",
        "plt.title('Precison Score for all classes')\n",
        "plt.ylabel('Accuracy')\n",
        "plt.xlabel('Class Number')\n",
        "plt.ylim([-0.05,1])\n",
        "plt.show()\n",
        "\n",
        "plt.plot([x for x in range(num_classes)], rs)\n",
        "plt.title('Recall Score for all classes')\n",
        "plt.ylabel('Accuracy')\n",
        "plt.xlabel('Class Number')\n",
        "plt.ylim([-0.05,1])\n",
        "plt.show()"
      ],
      "execution_count": 34,
      "outputs": [
        {
          "output_type": "display_data",
          "data": {
            "image/png": "[encoded data removed]",
            "text/plain": [
              "<Figure size 432x288 with 1 Axes>"
            ]
          },
          "metadata": {
            "needs_background": "light"
          }
        },
        {
          "output_type": "display_data",
          "data": {
            "image/png": "[encoded data removed]",
            "text/plain": [
              "<Figure size 432x288 with 1 Axes>"
            ]
          },
          "metadata": {
            "needs_background": "light"
          }
        }
      ]
    }
  ]
}
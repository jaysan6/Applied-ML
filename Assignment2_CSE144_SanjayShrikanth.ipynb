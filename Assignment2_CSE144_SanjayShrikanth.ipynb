{
  "nbformat": 4,
  "nbformat_minor": 0,
  "metadata": {
    "colab": {
      "name": "CSE 144 - Assignment2 - Sanjay Shrikanth.ipynb",
      "provenance": [],
      "collapsed_sections": [],
      "toc_visible": true
    },
    "kernelspec": {
      "display_name": "Python 3",
      "language": "python",
      "name": "python3"
    },
    "language_info": {
      "codemirror_mode": {
        "name": "ipython",
        "version": 3
      },
      "file_extension": ".py",
      "mimetype": "text/x-python",
      "name": "python",
      "nbconvert_exporter": "python",
      "pygments_lexer": "ipython3",
      "version": "3.8.5"
    }
  },
  "cells": [
    {
      "cell_type": "code",
      "metadata": {
        "id": "2IlwhV0z2nMr"
      },
      "source": [
        "%matplotlib inline"
      ],
      "execution_count": 113,
      "outputs": []
    },
    {
      "cell_type": "markdown",
      "metadata": {
        "id": "Chprzdhe2nMw"
      },
      "source": [
        "# Assignment 2\n",
        "\n",
        "**DUE: Sunday October 24 at 11:59pm**\n",
        "\n",
        "Turn in the assignment via Canvas.\n",
        "\n",
        "To write legible answers you will need to be familiar with both [Markdown](https://github.com/adam-p/markdown-here/wiki/Markdown-Cheatsheet) and [Latex](https://www.latex-tutorial.com/tutorials/amsmath/)\n",
        "\n",
        "Before you turn this problem in, make sure everything runs as expected. First, restart the kernel (in the menubar, select Runtime→→Restart runtime) and then run all cells (in the menubar, select Runtime→→Run All).\n",
        "\n",
        "Make sure you fill in any place that says \"YOUR CODE HERE\" or \"YOUR ANSWER HERE\", as well as your name below:"
      ]
    },
    {
      "cell_type": "code",
      "metadata": {
        "id": "8jeWubXE2nMx"
      },
      "source": [
        "NAME = \"Sanjay Shrikanth\"\n",
        "STUDENT_ID = \"1718751\""
      ],
      "execution_count": 114,
      "outputs": []
    },
    {
      "cell_type": "markdown",
      "metadata": {
        "id": "ozDglVovkHJJ"
      },
      "source": [
        "## Problem 1 - Yield Dataset with Polynomial Regression"
      ]
    },
    {
      "cell_type": "code",
      "metadata": {
        "id": "7qm6WAqNPRRu"
      },
      "source": [
        "import numpy as np\n",
        "import matplotlib.pyplot as plt\n",
        "import pandas as pd\n",
        "import seaborn as sns"
      ],
      "execution_count": 115,
      "outputs": []
    },
    {
      "cell_type": "markdown",
      "metadata": {
        "id": "q20rkd3LlkHs"
      },
      "source": [
        "This dataset of size $n = 15$ contains measurements of yield from an experiment done at five different temperature levels. The variables are $y = yield$ and $x = temperature$ in degrees Fahrenheit. Download the data from PyDrive."
      ]
    },
    {
      "cell_type": "code",
      "metadata": {
        "id": "oyKWchKWIvPi"
      },
      "source": [
        "!pip install -U -q PyDrive\n",
        "from pydrive.auth import GoogleAuth\n",
        "from pydrive.drive import GoogleDrive\n",
        "from google.colab import auth\n",
        "from oauth2client.client import GoogleCredentials"
      ],
      "execution_count": 116,
      "outputs": []
    },
    {
      "cell_type": "code",
      "metadata": {
        "id": "UwexIqp8I_lF"
      },
      "source": [
        "auth.authenticate_user()\n",
        "gauth = GoogleAuth()\n",
        "gauth.credentials = GoogleCredentials.get_application_default()\n",
        "drive = GoogleDrive(gauth)"
      ],
      "execution_count": 117,
      "outputs": []
    },
    {
      "cell_type": "code",
      "metadata": {
        "id": "dLF5xucumaai"
      },
      "source": [
        "downloaded = drive.CreateFile({'id':\"1snU4nKrW72fgaEYzWvnrK0iRhsVX2W7N\"})\n",
        "downloaded.GetContentFile('yield.csv')  "
      ],
      "execution_count": 118,
      "outputs": []
    },
    {
      "cell_type": "code",
      "metadata": {
        "id": "kpxch0eIm2D3"
      },
      "source": [
        "# Create pandas dataframe\n",
        "data = pd.read_csv('yield.csv')"
      ],
      "execution_count": 119,
      "outputs": []
    },
    {
      "cell_type": "code",
      "metadata": {
        "id": "wEGGgoy6nD4w",
        "colab": {
          "base_uri": "https://localhost:8080/",
          "height": 518
        },
        "outputId": "ca7425bc-f1f5-4a38-d25f-bd1ea8556ca0"
      },
      "source": [
        "# Let's look at the data\n",
        "data"
      ],
      "execution_count": 120,
      "outputs": [
        {
          "output_type": "execute_result",
          "data": {
            "text/html": [
              "<div>\n",
              "<style scoped>\n",
              "    .dataframe tbody tr th:only-of-type {\n",
              "        vertical-align: middle;\n",
              "    }\n",
              "\n",
              "    .dataframe tbody tr th {\n",
              "        vertical-align: top;\n",
              "    }\n",
              "\n",
              "    .dataframe thead th {\n",
              "        text-align: right;\n",
              "    }\n",
              "</style>\n",
              "<table border=\"1\" class=\"dataframe\">\n",
              "  <thead>\n",
              "    <tr style=\"text-align: right;\">\n",
              "      <th></th>\n",
              "      <th>Temp</th>\n",
              "      <th>Yield</th>\n",
              "    </tr>\n",
              "  </thead>\n",
              "  <tbody>\n",
              "    <tr>\n",
              "      <th>0</th>\n",
              "      <td>50</td>\n",
              "      <td>3.3</td>\n",
              "    </tr>\n",
              "    <tr>\n",
              "      <th>1</th>\n",
              "      <td>50</td>\n",
              "      <td>2.8</td>\n",
              "    </tr>\n",
              "    <tr>\n",
              "      <th>2</th>\n",
              "      <td>50</td>\n",
              "      <td>2.9</td>\n",
              "    </tr>\n",
              "    <tr>\n",
              "      <th>3</th>\n",
              "      <td>70</td>\n",
              "      <td>2.3</td>\n",
              "    </tr>\n",
              "    <tr>\n",
              "      <th>4</th>\n",
              "      <td>70</td>\n",
              "      <td>2.6</td>\n",
              "    </tr>\n",
              "    <tr>\n",
              "      <th>5</th>\n",
              "      <td>70</td>\n",
              "      <td>2.1</td>\n",
              "    </tr>\n",
              "    <tr>\n",
              "      <th>6</th>\n",
              "      <td>80</td>\n",
              "      <td>2.5</td>\n",
              "    </tr>\n",
              "    <tr>\n",
              "      <th>7</th>\n",
              "      <td>80</td>\n",
              "      <td>2.9</td>\n",
              "    </tr>\n",
              "    <tr>\n",
              "      <th>8</th>\n",
              "      <td>80</td>\n",
              "      <td>2.4</td>\n",
              "    </tr>\n",
              "    <tr>\n",
              "      <th>9</th>\n",
              "      <td>90</td>\n",
              "      <td>3.0</td>\n",
              "    </tr>\n",
              "    <tr>\n",
              "      <th>10</th>\n",
              "      <td>90</td>\n",
              "      <td>3.1</td>\n",
              "    </tr>\n",
              "    <tr>\n",
              "      <th>11</th>\n",
              "      <td>90</td>\n",
              "      <td>2.8</td>\n",
              "    </tr>\n",
              "    <tr>\n",
              "      <th>12</th>\n",
              "      <td>100</td>\n",
              "      <td>3.3</td>\n",
              "    </tr>\n",
              "    <tr>\n",
              "      <th>13</th>\n",
              "      <td>100</td>\n",
              "      <td>3.5</td>\n",
              "    </tr>\n",
              "    <tr>\n",
              "      <th>14</th>\n",
              "      <td>100</td>\n",
              "      <td>3.0</td>\n",
              "    </tr>\n",
              "  </tbody>\n",
              "</table>\n",
              "</div>"
            ],
            "text/plain": [
              "    Temp  Yield\n",
              "0     50    3.3\n",
              "1     50    2.8\n",
              "2     50    2.9\n",
              "3     70    2.3\n",
              "4     70    2.6\n",
              "5     70    2.1\n",
              "6     80    2.5\n",
              "7     80    2.9\n",
              "8     80    2.4\n",
              "9     90    3.0\n",
              "10    90    3.1\n",
              "11    90    2.8\n",
              "12   100    3.3\n",
              "13   100    3.5\n",
              "14   100    3.0"
            ]
          },
          "metadata": {},
          "execution_count": 120
        }
      ]
    },
    {
      "cell_type": "code",
      "metadata": {
        "id": "u1E3XKXgnIqq",
        "colab": {
          "base_uri": "https://localhost:8080/",
          "height": 299
        },
        "outputId": "a87e734c-a8d0-47b5-e5dd-79b272d3dc07"
      },
      "source": [
        "# Look at data description\n",
        "data.describe()"
      ],
      "execution_count": 121,
      "outputs": [
        {
          "output_type": "execute_result",
          "data": {
            "text/html": [
              "<div>\n",
              "<style scoped>\n",
              "    .dataframe tbody tr th:only-of-type {\n",
              "        vertical-align: middle;\n",
              "    }\n",
              "\n",
              "    .dataframe tbody tr th {\n",
              "        vertical-align: top;\n",
              "    }\n",
              "\n",
              "    .dataframe thead th {\n",
              "        text-align: right;\n",
              "    }\n",
              "</style>\n",
              "<table border=\"1\" class=\"dataframe\">\n",
              "  <thead>\n",
              "    <tr style=\"text-align: right;\">\n",
              "      <th></th>\n",
              "      <th>Temp</th>\n",
              "      <th>Yield</th>\n",
              "    </tr>\n",
              "  </thead>\n",
              "  <tbody>\n",
              "    <tr>\n",
              "      <th>count</th>\n",
              "      <td>15.000000</td>\n",
              "      <td>15.000000</td>\n",
              "    </tr>\n",
              "    <tr>\n",
              "      <th>mean</th>\n",
              "      <td>78.000000</td>\n",
              "      <td>2.833333</td>\n",
              "    </tr>\n",
              "    <tr>\n",
              "      <th>std</th>\n",
              "      <td>17.808505</td>\n",
              "      <td>0.395811</td>\n",
              "    </tr>\n",
              "    <tr>\n",
              "      <th>min</th>\n",
              "      <td>50.000000</td>\n",
              "      <td>2.100000</td>\n",
              "    </tr>\n",
              "    <tr>\n",
              "      <th>25%</th>\n",
              "      <td>70.000000</td>\n",
              "      <td>2.550000</td>\n",
              "    </tr>\n",
              "    <tr>\n",
              "      <th>50%</th>\n",
              "      <td>80.000000</td>\n",
              "      <td>2.900000</td>\n",
              "    </tr>\n",
              "    <tr>\n",
              "      <th>75%</th>\n",
              "      <td>90.000000</td>\n",
              "      <td>3.050000</td>\n",
              "    </tr>\n",
              "    <tr>\n",
              "      <th>max</th>\n",
              "      <td>100.000000</td>\n",
              "      <td>3.500000</td>\n",
              "    </tr>\n",
              "  </tbody>\n",
              "</table>\n",
              "</div>"
            ],
            "text/plain": [
              "             Temp      Yield\n",
              "count   15.000000  15.000000\n",
              "mean    78.000000   2.833333\n",
              "std     17.808505   0.395811\n",
              "min     50.000000   2.100000\n",
              "25%     70.000000   2.550000\n",
              "50%     80.000000   2.900000\n",
              "75%     90.000000   3.050000\n",
              "max    100.000000   3.500000"
            ]
          },
          "metadata": {},
          "execution_count": 121
        }
      ]
    },
    {
      "cell_type": "code",
      "metadata": {
        "id": "_CZhvRnRogIL"
      },
      "source": [
        "# Split data in X and y using pandas functionality.\n",
        "X = data.iloc[:,0] # Create vector of explanatory variables\n",
        "y = data.iloc[:,1] # Create vector of target variables\n",
        "\n",
        "# Cast dataframes into numpy arrays\n",
        "X = X.values\n",
        "y = y.values\n",
        "\n",
        "# Split data into X_train, Y_train, X_test y_test using sklearn\n",
        "from sklearn.model_selection import train_test_split\n",
        "X_train, X_test, y_train, y_test = train_test_split(X, y, test_size = 0.30, random_state = 0)\n",
        "\n",
        "# Reshape X_train, X_test for sklearn LinearRegression\n",
        "X_train = X_train.reshape(-1,1)\n",
        "X_test = X_test.reshape(-1,1)"
      ],
      "execution_count": 122,
      "outputs": []
    },
    {
      "cell_type": "markdown",
      "metadata": {
        "id": "P-6uuoH9m31F"
      },
      "source": [
        "### a) Linear Regression (10 points)"
      ]
    },
    {
      "cell_type": "markdown",
      "metadata": {
        "id": "cO7NdJ0YnNfi"
      },
      "source": [
        "We will run a simple linear regression on this well-curated dataset using sklearn's **LinearRegression**.\n",
        "\n",
        "Hint: Review the sklearn docs https://scikit-learn.org/stable/modules/generated/sklearn.linear_model.LinearRegression.html and class exercise."
      ]
    },
    {
      "cell_type": "code",
      "metadata": {
        "id": "dvZTcsNzpZXq",
        "colab": {
          "base_uri": "https://localhost:8080/"
        },
        "outputId": "64311dce-4278-4be1-cd67-0080da842ca3"
      },
      "source": [
        "from sklearn.linear_model import LinearRegression\n",
        "# Instantiate LinearRegression\n",
        "regressor = LinearRegression()\n",
        "\n",
        "# Fit the regressor using X_train and y_train\n",
        "regressor.fit(X_train, y_train)"
      ],
      "execution_count": 123,
      "outputs": [
        {
          "output_type": "execute_result",
          "data": {
            "text/plain": [
              "LinearRegression(copy_X=True, fit_intercept=True, n_jobs=None, normalize=False)"
            ]
          },
          "metadata": {},
          "execution_count": 123
        }
      ]
    },
    {
      "cell_type": "markdown",
      "metadata": {
        "id": "YEUvILxltp1o"
      },
      "source": [
        "Let's now visually inspect the model and see how well this model predicts the yield. \n",
        "* First, plot the yield vs. temperature points from training set in black.\n",
        "* Then, plot the regression line in red. Predictions from the regression model lie along the red line."
      ]
    },
    {
      "cell_type": "code",
      "metadata": {
        "id": "qkaRSeQxs00h",
        "colab": {
          "base_uri": "https://localhost:8080/",
          "height": 529
        },
        "outputId": "60beb9cf-2eb6-4bd4-aa92-eea06129b51a"
      },
      "source": [
        "# Plot the actual yield (y_train) vs. temperature values from training set\n",
        "plt.scatter(X_train, y_train, color='black')\n",
        "plt.title('Actual Yield vs. Temperature Values for Training Set')\n",
        "plt.show()\n",
        "\n",
        "# Plot the regression line\n",
        "min_X, max_X = (np.min(X_train), np.max(X_train))\n",
        "lx = [min_X, max_X]\n",
        "ly = [min_X*regressor.coef_ + regressor.intercept_, max_X*regressor.coef_ + regressor.intercept_]\n",
        "\n",
        "plt.scatter(X_train, y_train, color='black')\n",
        "plt.plot(lx, ly, color='red', linewidth=3)\n",
        "plt.show()"
      ],
      "execution_count": 124,
      "outputs": [
        {
          "output_type": "display_data",
          "data": {
            "image/png": "[encoded data removed]",
            "text/plain": [
              "<Figure size 432x288 with 1 Axes>"
            ]
          },
          "metadata": {
            "needs_background": "light"
          }
        },
        {
          "output_type": "display_data",
          "data": {
            "image/png": "[encoded data removed]",
            "text/plain": [
              "<Figure size 432x288 with 1 Axes>"
            ]
          },
          "metadata": {
            "needs_background": "light"
          }
        }
      ]
    },
    {
      "cell_type": "markdown",
      "metadata": {
        "id": "VDEu6LcfuLG4"
      },
      "source": [
        "Let's also visually inspect the prediction results from the test set.\n",
        "* First, plot the yield vs. temperature points from the test set in black\n",
        "* Then plot the regression line in red to see how prediction is similar to or different from the actual target."
      ]
    },
    {
      "cell_type": "code",
      "metadata": {
        "id": "pNppCKKTrHtW",
        "colab": {
          "base_uri": "https://localhost:8080/",
          "height": 531
        },
        "outputId": "4adf3a59-dd10-42fb-811b-353362551f93"
      },
      "source": [
        "# Plot the actual yield (y_test) vs. temperature values  for the test set\n",
        "\n",
        "plt.scatter(X_test, y_test, color='black')\n",
        "plt.title('Actual Yield vs. Temperature Values for Test set')\n",
        "plt.show()\n",
        "\n",
        "# Plot the regression line\n",
        "min_X, max_X = (np.min(X_test), np.max(X_test))\n",
        "lx = [min_X, max_X]\n",
        "ly = [min_X*regressor.coef_ + regressor.intercept_, max_X*regressor.coef_ + regressor.intercept_]\n",
        "\n",
        "plt.scatter(X_test, y_test, color='black')\n",
        "plt.plot(lx, ly, color='red', linewidth=3)\n",
        "plt.show()"
      ],
      "execution_count": 125,
      "outputs": [
        {
          "output_type": "display_data",
          "data": {
            "image/png": "[encoded data removed]",
            "text/plain": [
              "<Figure size 432x288 with 1 Axes>"
            ]
          },
          "metadata": {
            "needs_background": "light"
          }
        },
        {
          "output_type": "display_data",
          "data": {
            "image/png": "[encoded data removed]",
            "text/plain": [
              "<Figure size 432x288 with 1 Axes>"
            ]
          },
          "metadata": {
            "needs_background": "light"
          }
        }
      ]
    },
    {
      "cell_type": "markdown",
      "metadata": {
        "id": "dlHfuG_UYnfG"
      },
      "source": [
        "### b) Inspecting Linear Regression Model (5 points)"
      ]
    },
    {
      "cell_type": "markdown",
      "metadata": {
        "id": "nNWLywqeuzR9"
      },
      "source": [
        "After inspecting the results visually, does this model appear to be a good or bad fit on the test set and training set? "
      ]
    },
    {
      "cell_type": "markdown",
      "metadata": {
        "id": "og-QtiEOvKgn"
      },
      "source": [
        "Visually, it appears that the model is a **bad** fit for the training set and the test set. In both cases, there seems to be high error on a fair number of data points, as there is a relatively large gap between the model's prediction of the yield versus the actual value. Since we want our model to minimize that error and encapsulate the trend of the dataset, this model is not good enough for predictive purposes."
      ]
    },
    {
      "cell_type": "markdown",
      "metadata": {
        "id": "OrI7XG0qP0aW"
      },
      "source": [
        "Does the model display signs of underfitting? If so, why?"
      ]
    },
    {
      "cell_type": "markdown",
      "metadata": {
        "id": "1z9GhfWcP_eO"
      },
      "source": [
        "Yes, the model shows signs of underfitting because it does not accurately follow the trend of the dataset, which appears to be that of a higher polynomial order in contrast with our linear model. There is simply too much error between the datapoints and the model for it to be a proper fit as it generalizes the yield trend too much for it to be accurate, especially for the predictions of temperature = $80$ for example. Since the model cannot capture the trend of the data accurately, it shows signs of underfitting."
      ]
    },
    {
      "cell_type": "markdown",
      "metadata": {
        "id": "UfmMI_k5vZLx"
      },
      "source": [
        "### c) Polynomial Regression (10 points)"
      ]
    },
    {
      "cell_type": "markdown",
      "metadata": {
        "id": "-OVJMeKAyb2J"
      },
      "source": [
        "Data may not follow a linear relationship from the independent variable $X$ to the dependent variable $y$. Fitting a linear model to this would be inaccurate and yield a high loss. \n",
        "\n",
        "If we want to model an order $d$ polynomial relationship between $X$ and $y$ we can augment our initial linear model where instead of having:\n",
        "$$\n",
        "y^{(i)} = \\theta_0 + \\theta_1 x^{(i)}\n",
        "$$\n",
        "\n",
        "We have:\n",
        "\n",
        "$$\n",
        "y^{(i)} = \\theta_0 + \\theta_1 x^{(i)} + \\theta_2 {x^{(i)}}^2 + \\cdots + \\theta_d {x^{(i)}}^d\n",
        "$$\n",
        "\n",
        "We can use the same linear regression algorithm we if we first augment $X$ and add extra columns (or dimensions). \n",
        "\n",
        "$$ \\textbf X =\n",
        "\\begin{bmatrix}\n",
        "    x^{(1)}       & {x^{(1)}}^2 & \\cdots & {x^{(1)}}^d \\\\\n",
        "    x^{(2)}       & {x^{(2)}}^2 & \\cdots & {x^{(2)}}^d \\\\\n",
        "    \\vdots       & \\vdots & \\ddots & \\vdots \\\\\n",
        "    x^{(n)}       & {x^{(n)}}^2 & \\cdots & {x^{(n)}}^d\n",
        "\\end{bmatrix}$$\n",
        "\n",
        "Then our new higher order $\\hat Y$ is computed same as before.\n",
        "\n",
        "$$ \\hat Y =  X \\theta =\n",
        "\\begin{bmatrix}\n",
        "    1 & x^{(1)}       & {x^{(1)}}^2 & \\cdots & {x^{(1)}}^d \\\\\n",
        "    1 & x^{(2)}       & {x^{(2)}}^2 & \\cdots & {x^{(2)}}^d \\\\\n",
        "    \\vdots & \\vdots       & \\vdots & \\ddots & \\vdots \\\\\n",
        "    1 & x^{(n)}       & {x^{(n)}}^2 & \\cdots & {x^{(n)}}^d\n",
        "\\end{bmatrix}\n",
        "\\begin{bmatrix}\\theta_0 \\\\ \\theta_1 \\\\ \\vdots \\\\ \\theta_{d} \n",
        "\\end{bmatrix}=\n",
        "\\begin{bmatrix}\n",
        "    \\theta_0 + \\theta_1 x^{(1)} + \\theta_2 {x^{(1)}}^2 + \\cdots + \\theta_{d}  {x^{(1)}}^d \\\\\n",
        "    \\theta_0 + \\theta_1 x^{(2)} + \\theta_2 {x^{(2)}}^2 + \\cdots + \\theta_{d}  {x^{(2)}}^d  \\\\\n",
        "    \\vdots   \\\\\n",
        "    \\theta_0 + \\theta_1 x^{(n)} + \\theta_2 {x^{(n)}}^2 + \\cdots + \\theta_{d}  {x^{(n)}}^d\n",
        "\\end{bmatrix} \n",
        "= \\begin{bmatrix}\\hat y^{(1)} \\\\ \\hat y^{(2)} \\\\ \\vdots \\\\ \\hat y^{(n)} \n",
        "\\end{bmatrix}$$"
      ]
    },
    {
      "cell_type": "markdown",
      "metadata": {
        "id": "GEgFFYh9vppr"
      },
      "source": [
        "Using sklearn's **PolynomialFeatures** functionality, we will now transform X_train and X_test into second order polynomial space.\n",
        "\n",
        "For more info: https://scikit-learn.org/stable/modules/generated/sklearn.preprocessing.PolynomialFeatures.html"
      ]
    },
    {
      "cell_type": "code",
      "metadata": {
        "id": "KTMHoLIxw61l",
        "colab": {
          "base_uri": "https://localhost:8080/"
        },
        "outputId": "45ca0d7d-8ead-44a0-995c-e29fd6bcf968"
      },
      "source": [
        "# First, lets look at the values of X_train\n",
        "print(X_train)"
      ],
      "execution_count": 126,
      "outputs": [
        {
          "output_type": "stream",
          "name": "stdout",
          "text": [
            "[[ 70]\n",
            " [ 50]\n",
            " [100]\n",
            " [ 90]\n",
            " [ 80]\n",
            " [ 90]\n",
            " [ 70]\n",
            " [ 50]\n",
            " [ 70]\n",
            " [100]]\n"
          ]
        }
      ]
    },
    {
      "cell_type": "code",
      "metadata": {
        "id": "kPEUwbX0wN5-",
        "colab": {
          "base_uri": "https://localhost:8080/"
        },
        "outputId": "f1411bd2-d4bc-4249-f9f9-aae7219e9499"
      },
      "source": [
        "from sklearn.preprocessing import PolynomialFeatures\n",
        "\n",
        "# Creates polynomial transform of degree 2\n",
        "poly = PolynomialFeatures(2)\n",
        "\n",
        "# Transform X_train X_test\n",
        "X_train_pol = poly.fit_transform(X_train)\n",
        "X_test_pol = poly.fit_transform(X_test)\n",
        "\n",
        "# Print X_train_pol\n",
        "print(X_train_pol)"
      ],
      "execution_count": 127,
      "outputs": [
        {
          "output_type": "stream",
          "name": "stdout",
          "text": [
            "[[1.0e+00 7.0e+01 4.9e+03]\n",
            " [1.0e+00 5.0e+01 2.5e+03]\n",
            " [1.0e+00 1.0e+02 1.0e+04]\n",
            " [1.0e+00 9.0e+01 8.1e+03]\n",
            " [1.0e+00 8.0e+01 6.4e+03]\n",
            " [1.0e+00 9.0e+01 8.1e+03]\n",
            " [1.0e+00 7.0e+01 4.9e+03]\n",
            " [1.0e+00 5.0e+01 2.5e+03]\n",
            " [1.0e+00 7.0e+01 4.9e+03]\n",
            " [1.0e+00 1.0e+02 1.0e+04]]\n"
          ]
        }
      ]
    },
    {
      "cell_type": "markdown",
      "metadata": {
        "id": "FByoPNOWxK_o"
      },
      "source": [
        "We can now fit a second degree polynomial regression model to the transformed data."
      ]
    },
    {
      "cell_type": "code",
      "metadata": {
        "id": "z2nbImhTzHDV",
        "colab": {
          "base_uri": "https://localhost:8080/"
        },
        "outputId": "b03b6893-7525-45a0-ca72-a07fff2b0563"
      },
      "source": [
        "from sklearn.linear_model import LinearRegression\n",
        "# Instantiate LinearRegression\n",
        "regressor = LinearRegression()\n",
        "\n",
        "# Fit the regressor using X_train_pol and y_train\n",
        "regressor.fit(X_train_pol, y_train)"
      ],
      "execution_count": 128,
      "outputs": [
        {
          "output_type": "execute_result",
          "data": {
            "text/plain": [
              "LinearRegression(copy_X=True, fit_intercept=True, n_jobs=None, normalize=False)"
            ]
          },
          "metadata": {},
          "execution_count": 128
        }
      ]
    },
    {
      "cell_type": "markdown",
      "metadata": {
        "id": "P2mFEIoB0IdM"
      },
      "source": [
        "Now, visually inspect the polynomial regression model and see how well this model predicts the yield on the training set. \n",
        "\n",
        "Plot the yield vs. temperature points in black along with the polynomial regression line in red. Hint: For plotting the regression line, you can use the plot function to interpolate the regression line based on the model's prediction on data points."
      ]
    },
    {
      "cell_type": "code",
      "metadata": {
        "id": "nZ3TpGZ30IdN",
        "colab": {
          "base_uri": "https://localhost:8080/",
          "height": 529
        },
        "outputId": "e0ea5fb0-6d0a-4922-acac-e540229ec389"
      },
      "source": [
        "# Plot the actual yield (y_train) vs temp. values from training set\n",
        "plt.scatter(X_train, y_train, color='black')\n",
        "plt.title('Actual Yield vs. Temperature Values for Training set')\n",
        "plt.show()\n",
        "\n",
        "# Plot the regression line\n",
        "plt.scatter(X_train, y_train, color='black')\n",
        "\n",
        "X_t = np.linspace(np.min(X_train), np.max(X_train),100).reshape(-1,1)\n",
        "X_train_pol2 = poly.fit_transform(X_t)\n",
        "y_pred = regressor.predict(X_train_pol2).reshape(-1,1)\n",
        "\n",
        "plt.plot(X_t, y_pred, color='red', linewidth=3)\n",
        "plt.show()"
      ],
      "execution_count": 129,
      "outputs": [
        {
          "output_type": "display_data",
          "data": {
            "image/png": "[encoded data removed]",
            "text/plain": [
              "<Figure size 432x288 with 1 Axes>"
            ]
          },
          "metadata": {
            "needs_background": "light"
          }
        },
        {
          "output_type": "display_data",
          "data": {
            "image/png": "[encoded data removed]",
            "text/plain": [
              "<Figure size 432x288 with 1 Axes>"
            ]
          },
          "metadata": {
            "needs_background": "light"
          }
        }
      ]
    },
    {
      "cell_type": "markdown",
      "metadata": {
        "id": "eiN6blfA0zsr"
      },
      "source": [
        "Lastly, let's plot the test set yield vs. temperature points along with the polynomial regression line."
      ]
    },
    {
      "cell_type": "code",
      "metadata": {
        "id": "3fcQtM8g00_z",
        "colab": {
          "base_uri": "https://localhost:8080/",
          "height": 529
        },
        "outputId": "e80d641e-4468-4c45-e162-35be9989240a"
      },
      "source": [
        "# Plot the actual yield (y_test) vs temp. values from test set\n",
        "plt.scatter(X_test, y_test, color='black')\n",
        "plt.title('Actual Yield vs. Temperature Values for Test set')\n",
        "plt.show()\n",
        "\n",
        "# Plot the regression line\n",
        "plt.scatter(X_test, y_test, color='black')\n",
        "X_te = np.linspace(np.min(X_test), np.max(X_test),100).reshape(-1,1)\n",
        "X_test_pol2 = poly.fit_transform(X_te)\n",
        "y_pred = regressor.predict(X_test_pol2).reshape(-1,1)\n",
        "\n",
        "plt.plot(X_te, y_pred, color='red', linewidth=3)\n",
        "plt.show()"
      ],
      "execution_count": 130,
      "outputs": [
        {
          "output_type": "display_data",
          "data": {
            "image/png": "[encoded data removed]",
            "text/plain": [
              "<Figure size 432x288 with 1 Axes>"
            ]
          },
          "metadata": {
            "needs_background": "light"
          }
        },
        {
          "output_type": "display_data",
          "data": {
            "image/png": "[encoded data removed]",
            "text/plain": [
              "<Figure size 432x288 with 1 Axes>"
            ]
          },
          "metadata": {
            "needs_background": "light"
          }
        }
      ]
    },
    {
      "cell_type": "markdown",
      "metadata": {
        "id": "Di8yHQU2Yukr"
      },
      "source": [
        "### d) Inpsecting Polynomial Regression Model (5 points)"
      ]
    },
    {
      "cell_type": "markdown",
      "metadata": {
        "id": "czHSwZxX-WfG"
      },
      "source": [
        "After inspecting the polynomial regression model, does the model appear to be a better fit than simple linear regression? "
      ]
    },
    {
      "cell_type": "markdown",
      "metadata": {
        "id": "nEXJnHhG-pJ-"
      },
      "source": [
        "**Yes**, the polynomal regression model appears to be a much better fit than the linear model, as it now follows the overall trend of the data much closer than the linear model. Using the predictions of the polynomial features allow the model to predict values more closer to the trend of the graph, making it a better representation of the dataset. "
      ]
    },
    {
      "cell_type": "markdown",
      "metadata": {
        "id": "1_-ZNVBuQJ0X"
      },
      "source": [
        "Does the model address display more or less underfitting than the simple linear regression model and why?"
      ]
    },
    {
      "cell_type": "markdown",
      "metadata": {
        "id": "dLeDdBynQO0Y"
      },
      "source": [
        "This model shows **less** underfitting because visually, the overall error between the data points and the regression line predictions are much less than the linear model, which makes it a better fit. The model generalizes less than the linear model, which lowers the degree of underfitting it displays. \n"
      ]
    },
    {
      "cell_type": "markdown",
      "metadata": {
        "id": "CazISR8X_HUG"
      },
      "source": [
        "## Problem 2 - Fish Dataset"
      ]
    },
    {
      "cell_type": "markdown",
      "metadata": {
        "id": "vgC61-ah_WIz"
      },
      "source": [
        "## Importing the Dataset"
      ]
    },
    {
      "cell_type": "markdown",
      "metadata": {
        "id": "QlPD4uh5ImZE"
      },
      "source": [
        "We will now perform different variations of linear regression to predict fish weight given species type, weight, and physical measurements. The different attributes of the data are:\n",
        "\n",
        "- Species: species name of fish\n",
        "\n",
        "- Weight: weight of fish in Gram (g)\n",
        "\n",
        "- Length1: vertical length in (cm)\n",
        "\n",
        "- Length2: diagonal length in (cm)\n",
        "\n",
        "- Length3: cross length in (cm)\n",
        "\n",
        "- Height: height in (cm)\n",
        "\n",
        "- Width: diagonal width in (cm)\n",
        "\n",
        "Begin by downloading the Fish.csv file from google drive. Make sure to select your @ucsc.edu email when authorizing access to your account. "
      ]
    },
    {
      "cell_type": "code",
      "metadata": {
        "id": "RMy-21iKABVc"
      },
      "source": [
        "!pip install -U -q PyDrive\n",
        "from pydrive.auth import GoogleAuth\n",
        "from pydrive.drive import GoogleDrive\n",
        "from google.colab import auth\n",
        "from oauth2client.client import GoogleCredentials"
      ],
      "execution_count": 131,
      "outputs": []
    },
    {
      "cell_type": "code",
      "metadata": {
        "id": "BTvM0_JzABVc"
      },
      "source": [
        "auth.authenticate_user()\n",
        "gauth = GoogleAuth()\n",
        "gauth.credentials = GoogleCredentials.get_application_default()\n",
        "drive = GoogleDrive(gauth)"
      ],
      "execution_count": 132,
      "outputs": []
    },
    {
      "cell_type": "code",
      "metadata": {
        "id": "NLDSqS7_JD0j"
      },
      "source": [
        "# Download the Fish data\n",
        "downloaded = drive.CreateFile({'id':\"1AtMi-xCejVlhYS5qjgjjW4gH-TLuWJjC\"})\n",
        "downloaded.GetContentFile('Fish.csv')  "
      ],
      "execution_count": 133,
      "outputs": []
    },
    {
      "cell_type": "code",
      "metadata": {
        "id": "lWS9rMQjImZF"
      },
      "source": [
        "# Create pandas dataframe\n",
        "fish_data = pd.read_csv('Fish.csv')"
      ],
      "execution_count": 134,
      "outputs": []
    },
    {
      "cell_type": "markdown",
      "metadata": {
        "id": "tdr40HJxNb8Q"
      },
      "source": [
        "Let's look at some of the data and check some of the dataset descriptors."
      ]
    },
    {
      "cell_type": "code",
      "metadata": {
        "id": "L7jhsbgiNiWu",
        "colab": {
          "base_uri": "https://localhost:8080/",
          "height": 205
        },
        "outputId": "4f406525-dc3f-427e-c42f-8b585f15dcfa"
      },
      "source": [
        "# Let's print out the first few rows\n",
        "fish_data.head()"
      ],
      "execution_count": 135,
      "outputs": [
        {
          "output_type": "execute_result",
          "data": {
            "text/html": [
              "<div>\n",
              "<style scoped>\n",
              "    .dataframe tbody tr th:only-of-type {\n",
              "        vertical-align: middle;\n",
              "    }\n",
              "\n",
              "    .dataframe tbody tr th {\n",
              "        vertical-align: top;\n",
              "    }\n",
              "\n",
              "    .dataframe thead th {\n",
              "        text-align: right;\n",
              "    }\n",
              "</style>\n",
              "<table border=\"1\" class=\"dataframe\">\n",
              "  <thead>\n",
              "    <tr style=\"text-align: right;\">\n",
              "      <th></th>\n",
              "      <th>Species</th>\n",
              "      <th>Weight</th>\n",
              "      <th>Length1</th>\n",
              "      <th>Length2</th>\n",
              "      <th>Length3</th>\n",
              "      <th>Height</th>\n",
              "      <th>Width</th>\n",
              "    </tr>\n",
              "  </thead>\n",
              "  <tbody>\n",
              "    <tr>\n",
              "      <th>0</th>\n",
              "      <td>Bream</td>\n",
              "      <td>242.0</td>\n",
              "      <td>23.2</td>\n",
              "      <td>25.4</td>\n",
              "      <td>30.0</td>\n",
              "      <td>11.5200</td>\n",
              "      <td>4.0200</td>\n",
              "    </tr>\n",
              "    <tr>\n",
              "      <th>1</th>\n",
              "      <td>Bream</td>\n",
              "      <td>290.0</td>\n",
              "      <td>24.0</td>\n",
              "      <td>26.3</td>\n",
              "      <td>31.2</td>\n",
              "      <td>12.4800</td>\n",
              "      <td>4.3056</td>\n",
              "    </tr>\n",
              "    <tr>\n",
              "      <th>2</th>\n",
              "      <td>Bream</td>\n",
              "      <td>340.0</td>\n",
              "      <td>23.9</td>\n",
              "      <td>26.5</td>\n",
              "      <td>31.1</td>\n",
              "      <td>12.3778</td>\n",
              "      <td>4.6961</td>\n",
              "    </tr>\n",
              "    <tr>\n",
              "      <th>3</th>\n",
              "      <td>Bream</td>\n",
              "      <td>363.0</td>\n",
              "      <td>26.3</td>\n",
              "      <td>29.0</td>\n",
              "      <td>33.5</td>\n",
              "      <td>12.7300</td>\n",
              "      <td>4.4555</td>\n",
              "    </tr>\n",
              "    <tr>\n",
              "      <th>4</th>\n",
              "      <td>Bream</td>\n",
              "      <td>430.0</td>\n",
              "      <td>26.5</td>\n",
              "      <td>29.0</td>\n",
              "      <td>34.0</td>\n",
              "      <td>12.4440</td>\n",
              "      <td>5.1340</td>\n",
              "    </tr>\n",
              "  </tbody>\n",
              "</table>\n",
              "</div>"
            ],
            "text/plain": [
              "  Species  Weight  Length1  Length2  Length3   Height   Width\n",
              "0   Bream   242.0     23.2     25.4     30.0  11.5200  4.0200\n",
              "1   Bream   290.0     24.0     26.3     31.2  12.4800  4.3056\n",
              "2   Bream   340.0     23.9     26.5     31.1  12.3778  4.6961\n",
              "3   Bream   363.0     26.3     29.0     33.5  12.7300  4.4555\n",
              "4   Bream   430.0     26.5     29.0     34.0  12.4440  5.1340"
            ]
          },
          "metadata": {},
          "execution_count": 135
        }
      ]
    },
    {
      "cell_type": "code",
      "metadata": {
        "id": "iL6vmfTMNqeI",
        "colab": {
          "base_uri": "https://localhost:8080/"
        },
        "outputId": "2bb3cdf0-ee56-4e25-b8cb-59720f1a3d86"
      },
      "source": [
        "# Let's get the data shape\n",
        "fish_data.shape"
      ],
      "execution_count": 136,
      "outputs": [
        {
          "output_type": "execute_result",
          "data": {
            "text/plain": [
              "(159, 7)"
            ]
          },
          "metadata": {},
          "execution_count": 136
        }
      ]
    },
    {
      "cell_type": "code",
      "metadata": {
        "id": "uYMy04YkImZG",
        "colab": {
          "base_uri": "https://localhost:8080/",
          "height": 299
        },
        "outputId": "244692f2-ab94-49ed-f172-b5ddf2f9cf44"
      },
      "source": [
        "# Let's describe the data\n",
        "fish_data.describe()"
      ],
      "execution_count": 137,
      "outputs": [
        {
          "output_type": "execute_result",
          "data": {
            "text/html": [
              "<div>\n",
              "<style scoped>\n",
              "    .dataframe tbody tr th:only-of-type {\n",
              "        vertical-align: middle;\n",
              "    }\n",
              "\n",
              "    .dataframe tbody tr th {\n",
              "        vertical-align: top;\n",
              "    }\n",
              "\n",
              "    .dataframe thead th {\n",
              "        text-align: right;\n",
              "    }\n",
              "</style>\n",
              "<table border=\"1\" class=\"dataframe\">\n",
              "  <thead>\n",
              "    <tr style=\"text-align: right;\">\n",
              "      <th></th>\n",
              "      <th>Weight</th>\n",
              "      <th>Length1</th>\n",
              "      <th>Length2</th>\n",
              "      <th>Length3</th>\n",
              "      <th>Height</th>\n",
              "      <th>Width</th>\n",
              "    </tr>\n",
              "  </thead>\n",
              "  <tbody>\n",
              "    <tr>\n",
              "      <th>count</th>\n",
              "      <td>159.000000</td>\n",
              "      <td>159.000000</td>\n",
              "      <td>159.000000</td>\n",
              "      <td>159.000000</td>\n",
              "      <td>159.000000</td>\n",
              "      <td>159.000000</td>\n",
              "    </tr>\n",
              "    <tr>\n",
              "      <th>mean</th>\n",
              "      <td>398.326415</td>\n",
              "      <td>26.247170</td>\n",
              "      <td>28.415723</td>\n",
              "      <td>31.227044</td>\n",
              "      <td>8.970994</td>\n",
              "      <td>4.417486</td>\n",
              "    </tr>\n",
              "    <tr>\n",
              "      <th>std</th>\n",
              "      <td>357.978317</td>\n",
              "      <td>9.996441</td>\n",
              "      <td>10.716328</td>\n",
              "      <td>11.610246</td>\n",
              "      <td>4.286208</td>\n",
              "      <td>1.685804</td>\n",
              "    </tr>\n",
              "    <tr>\n",
              "      <th>min</th>\n",
              "      <td>0.000000</td>\n",
              "      <td>7.500000</td>\n",
              "      <td>8.400000</td>\n",
              "      <td>8.800000</td>\n",
              "      <td>1.728400</td>\n",
              "      <td>1.047600</td>\n",
              "    </tr>\n",
              "    <tr>\n",
              "      <th>25%</th>\n",
              "      <td>120.000000</td>\n",
              "      <td>19.050000</td>\n",
              "      <td>21.000000</td>\n",
              "      <td>23.150000</td>\n",
              "      <td>5.944800</td>\n",
              "      <td>3.385650</td>\n",
              "    </tr>\n",
              "    <tr>\n",
              "      <th>50%</th>\n",
              "      <td>273.000000</td>\n",
              "      <td>25.200000</td>\n",
              "      <td>27.300000</td>\n",
              "      <td>29.400000</td>\n",
              "      <td>7.786000</td>\n",
              "      <td>4.248500</td>\n",
              "    </tr>\n",
              "    <tr>\n",
              "      <th>75%</th>\n",
              "      <td>650.000000</td>\n",
              "      <td>32.700000</td>\n",
              "      <td>35.500000</td>\n",
              "      <td>39.650000</td>\n",
              "      <td>12.365900</td>\n",
              "      <td>5.584500</td>\n",
              "    </tr>\n",
              "    <tr>\n",
              "      <th>max</th>\n",
              "      <td>1650.000000</td>\n",
              "      <td>59.000000</td>\n",
              "      <td>63.400000</td>\n",
              "      <td>68.000000</td>\n",
              "      <td>18.957000</td>\n",
              "      <td>8.142000</td>\n",
              "    </tr>\n",
              "  </tbody>\n",
              "</table>\n",
              "</div>"
            ],
            "text/plain": [
              "            Weight     Length1     Length2     Length3      Height       Width\n",
              "count   159.000000  159.000000  159.000000  159.000000  159.000000  159.000000\n",
              "mean    398.326415   26.247170   28.415723   31.227044    8.970994    4.417486\n",
              "std     357.978317    9.996441   10.716328   11.610246    4.286208    1.685804\n",
              "min       0.000000    7.500000    8.400000    8.800000    1.728400    1.047600\n",
              "25%     120.000000   19.050000   21.000000   23.150000    5.944800    3.385650\n",
              "50%     273.000000   25.200000   27.300000   29.400000    7.786000    4.248500\n",
              "75%     650.000000   32.700000   35.500000   39.650000   12.365900    5.584500\n",
              "max    1650.000000   59.000000   63.400000   68.000000   18.957000    8.142000"
            ]
          },
          "metadata": {},
          "execution_count": 137
        }
      ]
    },
    {
      "cell_type": "code",
      "metadata": {
        "id": "qPM2fT7pImZH",
        "scrolled": true,
        "colab": {
          "base_uri": "https://localhost:8080/"
        },
        "outputId": "aff75ee6-b592-46b8-aa30-aa64d1eee49e"
      },
      "source": [
        "# Lastly, let's get data info\n",
        "fish_data.info()"
      ],
      "execution_count": 138,
      "outputs": [
        {
          "output_type": "stream",
          "name": "stdout",
          "text": [
            "<class 'pandas.core.frame.DataFrame'>\n",
            "RangeIndex: 159 entries, 0 to 158\n",
            "Data columns (total 7 columns):\n",
            " #   Column   Non-Null Count  Dtype  \n",
            "---  ------   --------------  -----  \n",
            " 0   Species  159 non-null    object \n",
            " 1   Weight   159 non-null    float64\n",
            " 2   Length1  159 non-null    float64\n",
            " 3   Length2  159 non-null    float64\n",
            " 4   Length3  159 non-null    float64\n",
            " 5   Height   159 non-null    float64\n",
            " 6   Width    159 non-null    float64\n",
            "dtypes: float64(6), object(1)\n",
            "memory usage: 8.8+ KB\n"
          ]
        }
      ]
    },
    {
      "cell_type": "markdown",
      "metadata": {
        "id": "nG9NvytqOK7s"
      },
      "source": [
        "### a) Removing 0's from data (5 points)"
      ]
    },
    {
      "cell_type": "markdown",
      "metadata": {
        "id": "expaCW7rOZO1"
      },
      "source": [
        "We can see that there aren't any null values in this dataset by using the .info() function. However, .describe() shows us there are weights of 0.0g which is ambiguous and is likely a recording error. \n",
        "\n",
        "Drop any row that has a weight of 0.0."
      ]
    },
    {
      "cell_type": "code",
      "metadata": {
        "id": "7yfCamcEImZJ",
        "colab": {
          "base_uri": "https://localhost:8080/",
          "height": 299
        },
        "outputId": "9d6f918c-5a50-404c-dfd5-44a2dcac90eb"
      },
      "source": [
        "# Delete any rows for which there is a measurement of 0.0 for weight.\n",
        "indexes = fish_data[fish_data['Weight'] == 0.0].index\n",
        "fish_data.drop(indexes, inplace = True)\n",
        "\n",
        "# Let's take another look.\n",
        "fish_data.describe()"
      ],
      "execution_count": 139,
      "outputs": [
        {
          "output_type": "execute_result",
          "data": {
            "text/html": [
              "<div>\n",
              "<style scoped>\n",
              "    .dataframe tbody tr th:only-of-type {\n",
              "        vertical-align: middle;\n",
              "    }\n",
              "\n",
              "    .dataframe tbody tr th {\n",
              "        vertical-align: top;\n",
              "    }\n",
              "\n",
              "    .dataframe thead th {\n",
              "        text-align: right;\n",
              "    }\n",
              "</style>\n",
              "<table border=\"1\" class=\"dataframe\">\n",
              "  <thead>\n",
              "    <tr style=\"text-align: right;\">\n",
              "      <th></th>\n",
              "      <th>Weight</th>\n",
              "      <th>Length1</th>\n",
              "      <th>Length2</th>\n",
              "      <th>Length3</th>\n",
              "      <th>Height</th>\n",
              "      <th>Width</th>\n",
              "    </tr>\n",
              "  </thead>\n",
              "  <tbody>\n",
              "    <tr>\n",
              "      <th>count</th>\n",
              "      <td>158.000000</td>\n",
              "      <td>158.000000</td>\n",
              "      <td>158.000000</td>\n",
              "      <td>158.000000</td>\n",
              "      <td>158.000000</td>\n",
              "      <td>158.000000</td>\n",
              "    </tr>\n",
              "    <tr>\n",
              "      <th>mean</th>\n",
              "      <td>400.847468</td>\n",
              "      <td>26.293038</td>\n",
              "      <td>28.465823</td>\n",
              "      <td>31.280380</td>\n",
              "      <td>8.986790</td>\n",
              "      <td>4.424232</td>\n",
              "    </tr>\n",
              "    <tr>\n",
              "      <th>std</th>\n",
              "      <td>357.697796</td>\n",
              "      <td>10.011427</td>\n",
              "      <td>10.731707</td>\n",
              "      <td>11.627605</td>\n",
              "      <td>4.295191</td>\n",
              "      <td>1.689010</td>\n",
              "    </tr>\n",
              "    <tr>\n",
              "      <th>min</th>\n",
              "      <td>5.900000</td>\n",
              "      <td>7.500000</td>\n",
              "      <td>8.400000</td>\n",
              "      <td>8.800000</td>\n",
              "      <td>1.728400</td>\n",
              "      <td>1.047600</td>\n",
              "    </tr>\n",
              "    <tr>\n",
              "      <th>25%</th>\n",
              "      <td>121.250000</td>\n",
              "      <td>19.150000</td>\n",
              "      <td>21.000000</td>\n",
              "      <td>23.200000</td>\n",
              "      <td>5.940600</td>\n",
              "      <td>3.398650</td>\n",
              "    </tr>\n",
              "    <tr>\n",
              "      <th>50%</th>\n",
              "      <td>281.500000</td>\n",
              "      <td>25.300000</td>\n",
              "      <td>27.400000</td>\n",
              "      <td>29.700000</td>\n",
              "      <td>7.789000</td>\n",
              "      <td>4.277050</td>\n",
              "    </tr>\n",
              "    <tr>\n",
              "      <th>75%</th>\n",
              "      <td>650.000000</td>\n",
              "      <td>32.700000</td>\n",
              "      <td>35.750000</td>\n",
              "      <td>39.675000</td>\n",
              "      <td>12.371850</td>\n",
              "      <td>5.586750</td>\n",
              "    </tr>\n",
              "    <tr>\n",
              "      <th>max</th>\n",
              "      <td>1650.000000</td>\n",
              "      <td>59.000000</td>\n",
              "      <td>63.400000</td>\n",
              "      <td>68.000000</td>\n",
              "      <td>18.957000</td>\n",
              "      <td>8.142000</td>\n",
              "    </tr>\n",
              "  </tbody>\n",
              "</table>\n",
              "</div>"
            ],
            "text/plain": [
              "            Weight     Length1     Length2     Length3      Height       Width\n",
              "count   158.000000  158.000000  158.000000  158.000000  158.000000  158.000000\n",
              "mean    400.847468   26.293038   28.465823   31.280380    8.986790    4.424232\n",
              "std     357.697796   10.011427   10.731707   11.627605    4.295191    1.689010\n",
              "min       5.900000    7.500000    8.400000    8.800000    1.728400    1.047600\n",
              "25%     121.250000   19.150000   21.000000   23.200000    5.940600    3.398650\n",
              "50%     281.500000   25.300000   27.400000   29.700000    7.789000    4.277050\n",
              "75%     650.000000   32.700000   35.750000   39.675000   12.371850    5.586750\n",
              "max    1650.000000   59.000000   63.400000   68.000000   18.957000    8.142000"
            ]
          },
          "metadata": {},
          "execution_count": 139
        }
      ]
    },
    {
      "cell_type": "markdown",
      "metadata": {
        "id": "YldeqJEoImZJ"
      },
      "source": [
        "### b) Outlier Detection \\& Elimination (5 points)"
      ]
    },
    {
      "cell_type": "markdown",
      "metadata": {
        "id": "WSqQRkpJPQSb"
      },
      "source": [
        "Using 4 standard deviations from the mean as our cut-off, and using the data listed using the describe function above, are there any outliers?"
      ]
    },
    {
      "cell_type": "code",
      "metadata": {
        "id": "HCnFZgec000S",
        "colab": {
          "base_uri": "https://localhost:8080/",
          "height": 408
        },
        "outputId": "e4e04d73-89dc-4b34-e780-4e6f59ccf4b8"
      },
      "source": [
        "labels = fish_data.columns.values.tolist()\n",
        "for l in labels:\n",
        "  if l == 'Species': continue\n",
        "  fish_data['Zscore'] = (fish_data[l] - fish_data[l].mean()) / fish_data[l].std()\n",
        "  indices = fish_data[(fish_data['Zscore'] > 4) | (fish_data['Zscore'] < -4)].index\n",
        "  fish_data.drop(indices, inplace = True)\n",
        "  fish_data = fish_data.drop(columns=[\"Zscore\"])\n",
        "\n",
        "  z_score_min = (fish_data[l].min() - fish_data[l].mean()) / fish_data[l].std()\n",
        "  z_score_max = (fish_data[l].max() - fish_data[l].mean()) / fish_data[l].std()\n",
        "  print(l, z_score_min, z_score_max)\n",
        "\n",
        "fish_data.describe()"
      ],
      "execution_count": 140,
      "outputs": [
        {
          "output_type": "stream",
          "name": "stdout",
          "text": [
            "Weight -1.1041372724300456 3.492200810621435\n",
            "Length1 -1.877158704842668 3.2669629336932795\n",
            "Length2 -1.8697699869745301 3.2552303873658257\n",
            "Length3 -1.9333628182239988 3.15796927348466\n",
            "Height -1.689887556103412 2.321249522067108\n",
            "Width -1.9991782799617972 2.2011526646261443\n"
          ]
        },
        {
          "output_type": "execute_result",
          "data": {
            "text/html": [
              "<div>\n",
              "<style scoped>\n",
              "    .dataframe tbody tr th:only-of-type {\n",
              "        vertical-align: middle;\n",
              "    }\n",
              "\n",
              "    .dataframe tbody tr th {\n",
              "        vertical-align: top;\n",
              "    }\n",
              "\n",
              "    .dataframe thead th {\n",
              "        text-align: right;\n",
              "    }\n",
              "</style>\n",
              "<table border=\"1\" class=\"dataframe\">\n",
              "  <thead>\n",
              "    <tr style=\"text-align: right;\">\n",
              "      <th></th>\n",
              "      <th>Weight</th>\n",
              "      <th>Length1</th>\n",
              "      <th>Length2</th>\n",
              "      <th>Length3</th>\n",
              "      <th>Height</th>\n",
              "      <th>Width</th>\n",
              "    </tr>\n",
              "  </thead>\n",
              "  <tbody>\n",
              "    <tr>\n",
              "      <th>count</th>\n",
              "      <td>158.000000</td>\n",
              "      <td>158.000000</td>\n",
              "      <td>158.000000</td>\n",
              "      <td>158.000000</td>\n",
              "      <td>158.000000</td>\n",
              "      <td>158.000000</td>\n",
              "    </tr>\n",
              "    <tr>\n",
              "      <th>mean</th>\n",
              "      <td>400.847468</td>\n",
              "      <td>26.293038</td>\n",
              "      <td>28.465823</td>\n",
              "      <td>31.280380</td>\n",
              "      <td>8.986790</td>\n",
              "      <td>4.424232</td>\n",
              "    </tr>\n",
              "    <tr>\n",
              "      <th>std</th>\n",
              "      <td>357.697796</td>\n",
              "      <td>10.011427</td>\n",
              "      <td>10.731707</td>\n",
              "      <td>11.627605</td>\n",
              "      <td>4.295191</td>\n",
              "      <td>1.689010</td>\n",
              "    </tr>\n",
              "    <tr>\n",
              "      <th>min</th>\n",
              "      <td>5.900000</td>\n",
              "      <td>7.500000</td>\n",
              "      <td>8.400000</td>\n",
              "      <td>8.800000</td>\n",
              "      <td>1.728400</td>\n",
              "      <td>1.047600</td>\n",
              "    </tr>\n",
              "    <tr>\n",
              "      <th>25%</th>\n",
              "      <td>121.250000</td>\n",
              "      <td>19.150000</td>\n",
              "      <td>21.000000</td>\n",
              "      <td>23.200000</td>\n",
              "      <td>5.940600</td>\n",
              "      <td>3.398650</td>\n",
              "    </tr>\n",
              "    <tr>\n",
              "      <th>50%</th>\n",
              "      <td>281.500000</td>\n",
              "      <td>25.300000</td>\n",
              "      <td>27.400000</td>\n",
              "      <td>29.700000</td>\n",
              "      <td>7.789000</td>\n",
              "      <td>4.277050</td>\n",
              "    </tr>\n",
              "    <tr>\n",
              "      <th>75%</th>\n",
              "      <td>650.000000</td>\n",
              "      <td>32.700000</td>\n",
              "      <td>35.750000</td>\n",
              "      <td>39.675000</td>\n",
              "      <td>12.371850</td>\n",
              "      <td>5.586750</td>\n",
              "    </tr>\n",
              "    <tr>\n",
              "      <th>max</th>\n",
              "      <td>1650.000000</td>\n",
              "      <td>59.000000</td>\n",
              "      <td>63.400000</td>\n",
              "      <td>68.000000</td>\n",
              "      <td>18.957000</td>\n",
              "      <td>8.142000</td>\n",
              "    </tr>\n",
              "  </tbody>\n",
              "</table>\n",
              "</div>"
            ],
            "text/plain": [
              "            Weight     Length1     Length2     Length3      Height       Width\n",
              "count   158.000000  158.000000  158.000000  158.000000  158.000000  158.000000\n",
              "mean    400.847468   26.293038   28.465823   31.280380    8.986790    4.424232\n",
              "std     357.697796   10.011427   10.731707   11.627605    4.295191    1.689010\n",
              "min       5.900000    7.500000    8.400000    8.800000    1.728400    1.047600\n",
              "25%     121.250000   19.150000   21.000000   23.200000    5.940600    3.398650\n",
              "50%     281.500000   25.300000   27.400000   29.700000    7.789000    4.277050\n",
              "75%     650.000000   32.700000   35.750000   39.675000   12.371850    5.586750\n",
              "max    1650.000000   59.000000   63.400000   68.000000   18.957000    8.142000"
            ]
          },
          "metadata": {},
          "execution_count": 140
        }
      ]
    },
    {
      "cell_type": "markdown",
      "metadata": {
        "id": "W-DoY4ozjeel"
      },
      "source": [
        "Looking at the ```describe()``` output after the outlier elimination procedure, the total count of each of the quantitative categories remained the same at $158$ samples each. This implies that there are **no outliers** in the dataset that exceed $4$ standard deviations from the mean. This is consistent with the z-scores of the min and max values of each label. Since the min and the max values are the farthest data from the mean in the dataset and that none of them are $4$ standard devations from the mean (z-scores $< -4$ or $> 4$), there are **no** outliers in this dataset."
      ]
    },
    {
      "cell_type": "markdown",
      "metadata": {
        "id": "se3W2x_PThhC"
      },
      "source": [
        "## Problem 3 - Fish Linear Regression"
      ]
    },
    {
      "cell_type": "markdown",
      "metadata": {
        "id": "3aOeXbcUeZJL"
      },
      "source": [
        "You will now run different versions of linear regression in order to predict fish Weight using the 6 explanatory variables."
      ]
    },
    {
      "cell_type": "markdown",
      "metadata": {
        "id": "TD6Ixu2Welbe"
      },
      "source": [
        "### a) Multiple Linear Regression (6 points)"
      ]
    },
    {
      "cell_type": "markdown",
      "metadata": {
        "id": "E2DFm5KrU7N9"
      },
      "source": [
        "First, run a multiple linear regression using only the height, width, and length measurements to predict weight. We will begin by splitting the data into features **X_fish** and target variable **y_fish**."
      ]
    },
    {
      "cell_type": "code",
      "metadata": {
        "id": "HPuMcF23Vbyl",
        "colab": {
          "base_uri": "https://localhost:8080/"
        },
        "outputId": "633270c7-2c75-47e3-df08-00b0cab497c6"
      },
      "source": [
        "y_fish = fish_data.iloc[:, 1] # Get Fish Weights\n",
        "X_fish = fish_data.drop(columns=['Weight']) # Get Fish measurements plus species\n",
        "X_fish = X_fish.drop(columns=['Species']) # Drop the Fish Species for now\n",
        "\n",
        "# Print X.head(), you should have 5 features for each sample\n",
        "print(\"X_fish.head():\")\n",
        "print(X_fish.head())\n",
        "\n",
        "# Print y.head(), you should have one label for each sample\n",
        "print(\"\\ny_fish.head()\")\n",
        "print(y_fish.head())"
      ],
      "execution_count": 141,
      "outputs": [
        {
          "output_type": "stream",
          "name": "stdout",
          "text": [
            "X_fish.head():\n",
            "   Length1  Length2  Length3   Height   Width\n",
            "0     23.2     25.4     30.0  11.5200  4.0200\n",
            "1     24.0     26.3     31.2  12.4800  4.3056\n",
            "2     23.9     26.5     31.1  12.3778  4.6961\n",
            "3     26.3     29.0     33.5  12.7300  4.4555\n",
            "4     26.5     29.0     34.0  12.4440  5.1340\n",
            "\n",
            "y_fish.head()\n",
            "0    242.0\n",
            "1    290.0\n",
            "2    340.0\n",
            "3    363.0\n",
            "4    430.0\n",
            "Name: Weight, dtype: float64\n"
          ]
        }
      ]
    },
    {
      "cell_type": "markdown",
      "metadata": {
        "id": "jypw17XkXuDv"
      },
      "source": [
        "Now, we are almost ready to run regression with scikit-learn. We need to first convert **X_fish** and **y_fish** into numpy arrays and split the data into training and validation splits using sklearn **train_test_split**. \n",
        "\n",
        "sklearn's train_test_split offers customizable functionality when creating training and test sets. For more information, checkout https://scikit-learn.org/stable/modules/generated/sklearn.model_selection.train_test_split.html ."
      ]
    },
    {
      "cell_type": "code",
      "metadata": {
        "id": "I0UOI7KvYA0x"
      },
      "source": [
        "# Convert X, and y into np arrays\n",
        "X_fish = X_fish.values\n",
        "y_fish = y_fish.values\n",
        "\n",
        "# Split data into train test split\n",
        "from sklearn.model_selection import train_test_split\n",
        "X_fish_train, X_fish_test, y_fish_train, y_fish_test = train_test_split(X_fish, y_fish, test_size = 0.2, random_state = 0)"
      ],
      "execution_count": 142,
      "outputs": []
    },
    {
      "cell_type": "markdown",
      "metadata": {
        "id": "qFCSJJ7MYsMj"
      },
      "source": [
        "Now we are ready to run a multiple linear regression. Use sklearn's **LinearRegression** to carry out the regression."
      ]
    },
    {
      "cell_type": "code",
      "metadata": {
        "id": "GHcbvBTTYsF2",
        "colab": {
          "base_uri": "https://localhost:8080/"
        },
        "outputId": "1f163720-3667-442d-a674-512d4b2fbcfb"
      },
      "source": [
        "from sklearn.linear_model import LinearRegression\n",
        "regressor = LinearRegression()\n",
        "\n",
        "# Fit the regressor using X_fish_train and y_fish_train\n",
        "regressor.fit(X_fish_train, y_fish_train)"
      ],
      "execution_count": 143,
      "outputs": [
        {
          "output_type": "execute_result",
          "data": {
            "text/plain": [
              "LinearRegression(copy_X=True, fit_intercept=True, n_jobs=None, normalize=False)"
            ]
          },
          "metadata": {},
          "execution_count": 143
        }
      ]
    },
    {
      "cell_type": "markdown",
      "metadata": {
        "id": "acTg_PwUabeY"
      },
      "source": [
        "Now let's see how we did and generate predictions for X_fish_test. Then print predicted values and actual target values side-by-side for a visual comparison."
      ]
    },
    {
      "cell_type": "code",
      "metadata": {
        "id": "u3BTynP2Yr-B",
        "colab": {
          "base_uri": "https://localhost:8080/"
        },
        "outputId": "39dc89f6-86cf-4898-f00f-048c2a7ccdf8"
      },
      "source": [
        "# Generate predictions using X_fish_test\n",
        "y_fish_pred = regressor.predict(X_fish_test)\n",
        "\n",
        "# Print the predictions along with actual weights\n",
        "for pred in range(len(y_fish_pred)):\n",
        "  print(\"Prediction: {}  \".format(y_fish_pred[pred]), \"Actual: {}\\n\".format(y_fish_test[pred]))\n",
        "\n",
        "print(\"\\nPredictions\", y_fish_pred)\n",
        "print(\"\\nActual Weights\", y_fish_test)"
      ],
      "execution_count": 144,
      "outputs": [
        {
          "output_type": "stream",
          "name": "stdout",
          "text": [
            "Prediction: 476.59117882312404   Actual: 390.0\n",
            "\n",
            "Prediction: 207.9929561343152   Actual: 160.0\n",
            "\n",
            "Prediction: 696.6127779796425   Actual: 700.0\n",
            "\n",
            "Prediction: 829.8356241968238   Actual: 1015.0\n",
            "\n",
            "Prediction: 155.66081610908913   Actual: 120.0\n",
            "\n",
            "Prediction: 839.4307731235608   Actual: 1100.0\n",
            "\n",
            "Prediction: 756.424542188638   Actual: 820.0\n",
            "\n",
            "Prediction: 860.905384602052   Actual: 950.0\n",
            "\n",
            "Prediction: 648.0651893666604   Actual: 556.0\n",
            "\n",
            "Prediction: 194.36935616522538   Actual: 145.0\n",
            "\n",
            "Prediction: 656.331155933801   Actual: 700.0\n",
            "\n",
            "Prediction: 988.3533044034305   Actual: 1600.0\n",
            "\n",
            "Prediction: 694.4190899537587   Actual: 720.0\n",
            "\n",
            "Prediction: 27.973156471368043   Actual: 55.0\n",
            "\n",
            "Prediction: 90.40492060661057   Actual: 85.0\n",
            "\n",
            "Prediction: 279.88428527811044   Actual: 188.0\n",
            "\n",
            "Prediction: 426.51714490590535   Actual: 300.0\n",
            "\n",
            "Prediction: 253.2749712393799   Actual: 180.0\n",
            "\n",
            "Prediction: 988.3533044034305   Actual: 1550.0\n",
            "\n",
            "Prediction: 380.413825535969   Actual: 306.0\n",
            "\n",
            "Prediction: 203.77329399786714   Actual: 140.0\n",
            "\n",
            "Prediction: 873.1342266822828   Actual: 975.0\n",
            "\n",
            "Prediction: 776.4286665179097   Actual: 1000.0\n",
            "\n",
            "Prediction: 514.645291232129   Actual: 450.0\n",
            "\n",
            "Prediction: 156.2549433997754   Actual: 110.0\n",
            "\n",
            "Prediction: 98.82407554183447   Actual: 78.0\n",
            "\n",
            "Prediction: 423.340577507962   Actual: 300.0\n",
            "\n",
            "Prediction: 638.7605513223943   Actual: 650.0\n",
            "\n",
            "Prediction: -203.30791321585687   Actual: 6.7\n",
            "\n",
            "Prediction: 611.875301036567   Actual: 514.0\n",
            "\n",
            "Prediction: 352.8777398627022   Actual: 290.0\n",
            "\n",
            "Prediction: 307.75783507086004   Actual: 270.0\n",
            "\n",
            "\n",
            "Predictions [ 476.59117882  207.99295613  696.61277798  829.8356242   155.66081611\n",
            "  839.43077312  756.42454219  860.9053846   648.06518937  194.36935617\n",
            "  656.33115593  988.3533044   694.41908995   27.97315647   90.40492061\n",
            "  279.88428528  426.51714491  253.27497124  988.3533044   380.41382554\n",
            "  203.773294    873.13422668  776.42866652  514.64529123  156.2549434\n",
            "   98.82407554  423.34057751  638.76055132 -203.30791322  611.87530104\n",
            "  352.87773986  307.75783507]\n",
            "\n",
            "Actual Weights [ 390.   160.   700.  1015.   120.  1100.   820.   950.   556.   145.\n",
            "  700.  1600.   720.    55.    85.   188.   300.   180.  1550.   306.\n",
            "  140.   975.  1000.   450.   110.    78.   300.   650.     6.7  514.\n",
            "  290.   270. ]\n"
          ]
        }
      ]
    },
    {
      "cell_type": "markdown",
      "metadata": {
        "id": "JEoRzxdUZEXE"
      },
      "source": [
        "### b) Computing MSE and R-squared for MLR (5 points)"
      ]
    },
    {
      "cell_type": "markdown",
      "metadata": {
        "id": "J1H01fjoYr3I"
      },
      "source": [
        "The model appears to do an okay job predicting some weights while missing the mark on others. Let's quantify the results by computing mean squared error (MSE) and the coefficient of determination (R-squared). sklearn's metrics package provides functions to compute the values for you. \n",
        "\n",
        "More info can be found here: \n",
        "\n",
        "https://scikit-learn.org/stable/modules/generated/sklearn.metrics.mean_squared_error.html\n",
        "https://scikit-learn.org/stable/modules/generated/sklearn.metrics.r2_score.html"
      ]
    },
    {
      "cell_type": "code",
      "metadata": {
        "id": "_KUunCUyYrvX",
        "colab": {
          "base_uri": "https://localhost:8080/"
        },
        "outputId": "e1209cf7-a73c-466f-fa28-eab0152c4a42"
      },
      "source": [
        "from sklearn.metrics import mean_squared_error\n",
        "from sklearn.metrics import r2_score\n",
        "\n",
        "# Compute the mean squared error using y_fish_test and y_fish_pred\n",
        "mse = mean_squared_error(y_fish_test, y_fish_pred)\n",
        "print(\"MSE: \", mse)\n",
        "\n",
        "# Compute the coefficient of determination using y_fish_test and y_fish_pred\n",
        "r_2 = r2_score(y_fish_test, y_fish_pred)\n",
        "print(\"R-Squared: \", r_2)"
      ],
      "execution_count": 145,
      "outputs": [
        {
          "output_type": "stream",
          "name": "stdout",
          "text": [
            "MSE:  31561.773067541344\n",
            "R-Squared:  0.8245122776931352\n"
          ]
        }
      ]
    },
    {
      "cell_type": "markdown",
      "metadata": {
        "id": "jiKHKbSzdWZQ"
      },
      "source": [
        "Using the y_fish_test and y_fish_pred, what was the mean squared error for this model?"
      ]
    },
    {
      "cell_type": "markdown",
      "metadata": {
        "id": "CFUrwJv7dn5d"
      },
      "source": [
        "Mean Squared Error of the model is $31561.773067541344$"
      ]
    },
    {
      "cell_type": "markdown",
      "metadata": {
        "id": "dsC4S8pWdrHE"
      },
      "source": [
        "Using the y_fish_test and y_fish_pred, what was the coefficient of detemination for this model?"
      ]
    },
    {
      "cell_type": "markdown",
      "metadata": {
        "id": "M-xqx9NUdrHF"
      },
      "source": [
        "Coefficient of Determination for the model is $0.8245122776931352$"
      ]
    },
    {
      "cell_type": "markdown",
      "metadata": {
        "id": "K-UjZojxjv5W"
      },
      "source": [
        "### c) Polynomial Multiple Linear Regression (12 points)"
      ]
    },
    {
      "cell_type": "markdown",
      "metadata": {
        "id": "z8EgAGkAjzCP"
      },
      "source": [
        "We have seen how polynomial regression can increase the predictive power of linear regression models. We will now run a polynomial multiple linear regression model in order to gain a more accurate model. Begin by transforming the features X_fish_test and X_fish_train into second order polynomial space. There will be interaction terms in the transformed dataset as well. For more on interaction terms visit the sklearn docs."
      ]
    },
    {
      "cell_type": "code",
      "metadata": {
        "id": "QlKOME90kDmY",
        "colab": {
          "base_uri": "https://localhost:8080/"
        },
        "outputId": "8c6ff13c-799c-4b21-9439-a252d3b756e6"
      },
      "source": [
        "from sklearn.preprocessing import PolynomialFeatures\n",
        "# Create polynomial transform of degree 2. hint: problem 1\n",
        "poly = PolynomialFeatures(2)\n",
        "\n",
        "# Transform X_fish_train X_fish_test to second order polynomial space\n",
        "X_fish_train_pol = poly.fit_transform(X_fish_train)\n",
        "X_fish_test_pol = poly.fit_transform(X_fish_test)\n",
        "\n",
        "# Print 5 rows of X_fish_train_poly, shape should be (5,21)\n",
        "first_five_rows = X_fish_train_pol[:5,:]\n",
        "print(first_five_rows)\n",
        "print(\"Shape:\", first_five_rows.shape)"
      ],
      "execution_count": 146,
      "outputs": [
        {
          "output_type": "stream",
          "name": "stdout",
          "text": [
            "[[1.00000000e+00 3.04000000e+01 3.30000000e+01 3.83000000e+01\n",
            "  1.48604000e+01 5.28540000e+00 9.24160000e+02 1.00320000e+03\n",
            "  1.16432000e+03 4.51756160e+02 1.60676160e+02 1.08900000e+03\n",
            "  1.26390000e+03 4.90393200e+02 1.74418200e+02 1.46689000e+03\n",
            "  5.69153320e+02 2.02430820e+02 2.20831488e+02 7.85431582e+01\n",
            "  2.79354532e+01]\n",
            " [1.00000000e+00 3.48000000e+01 3.73000000e+01 3.98000000e+01\n",
            "  6.28840000e+00 4.01980000e+00 1.21104000e+03 1.29804000e+03\n",
            "  1.38504000e+03 2.18836320e+02 1.39889040e+02 1.39129000e+03\n",
            "  1.48454000e+03 2.34557320e+02 1.49938540e+02 1.58404000e+03\n",
            "  2.50278320e+02 1.59988040e+02 3.95439746e+01 2.52781103e+01\n",
            "  1.61587920e+01]\n",
            " [1.00000000e+00 4.00000000e+01 4.25000000e+01 4.55000000e+01\n",
            "  6.82500000e+00 4.45900000e+00 1.60000000e+03 1.70000000e+03\n",
            "  1.82000000e+03 2.73000000e+02 1.78360000e+02 1.80625000e+03\n",
            "  1.93375000e+03 2.90062500e+02 1.89507500e+02 2.07025000e+03\n",
            "  3.10537500e+02 2.02884500e+02 4.65806250e+01 3.04326750e+01\n",
            "  1.98826810e+01]\n",
            " [1.00000000e+00 3.15000000e+01 3.45000000e+01 3.97000000e+01\n",
            "  1.55227000e+01 5.28010000e+00 9.92250000e+02 1.08675000e+03\n",
            "  1.25055000e+03 4.88965050e+02 1.66323150e+02 1.19025000e+03\n",
            "  1.36965000e+03 5.35533150e+02 1.82163450e+02 1.57609000e+03\n",
            "  6.16251190e+02 2.09619970e+02 2.40954215e+02 8.19614083e+01\n",
            "  2.78794560e+01]\n",
            " [1.00000000e+00 2.10000000e+01 2.30000000e+01 2.45000000e+01\n",
            "  5.21850000e+00 3.62600000e+00 4.41000000e+02 4.83000000e+02\n",
            "  5.14500000e+02 1.09588500e+02 7.61460000e+01 5.29000000e+02\n",
            "  5.63500000e+02 1.20025500e+02 8.33980000e+01 6.00250000e+02\n",
            "  1.27853250e+02 8.88370000e+01 2.72327422e+01 1.89222810e+01\n",
            "  1.31478760e+01]]\n",
            "Shape: (5, 21)\n"
          ]
        }
      ]
    },
    {
      "cell_type": "markdown",
      "metadata": {
        "id": "21wLW5Y0DTXR"
      },
      "source": [
        "Next run the second order polynomial regression using the transformed data. Instantiate a new regression model and use X_fish_train_pol and y_fish_train to fit the model."
      ]
    },
    {
      "cell_type": "code",
      "metadata": {
        "id": "mRK0BdUlDZOf",
        "colab": {
          "base_uri": "https://localhost:8080/"
        },
        "outputId": "b15ccde1-26cd-4b21-c145-b65755376f36"
      },
      "source": [
        "from sklearn.linear_model import LinearRegression\n",
        "regressor = LinearRegression()\n",
        "\n",
        "# Fit the regressor using X_fish_train_pol and y_fish_train\n",
        "regressor.fit(X_fish_train_pol, y_fish_train)"
      ],
      "execution_count": 147,
      "outputs": [
        {
          "output_type": "execute_result",
          "data": {
            "text/plain": [
              "LinearRegression(copy_X=True, fit_intercept=True, n_jobs=None, normalize=False)"
            ]
          },
          "metadata": {},
          "execution_count": 147
        }
      ]
    },
    {
      "cell_type": "markdown",
      "metadata": {
        "id": "8Ue0vEm4D0fC"
      },
      "source": [
        "Now let's see how we did with the second model and generate predictions using X_fish_test_pol. Then print predicted values and actual target values side-by-side for a visual comparison."
      ]
    },
    {
      "cell_type": "code",
      "metadata": {
        "id": "dptAnGEhEc1D",
        "colab": {
          "base_uri": "https://localhost:8080/"
        },
        "outputId": "6be3dabd-8aa3-4f89-9457-75425d284105"
      },
      "source": [
        "# generate predictions using X_test\n",
        "y_fish_pol_pred = regressor.predict(X_fish_test_pol)\n",
        "\n",
        "print(len(y_fish_pol_pred))\n",
        "print(y_fish_test.shape)\n",
        "\n",
        "# Print the predictions along with actual weights\n",
        "for pred in range(len(y_fish_pol_pred)):\n",
        "  print(\"Prediction: {}  \".format(y_fish_pol_pred[pred]), \"Actual: {}\\n\".format(y_fish_test[pred]))\n",
        "\n",
        "print(\"\\nPredictions\", y_fish_pol_pred)\n",
        "print(\"\\nActual Weights\", y_fish_test)"
      ],
      "execution_count": 148,
      "outputs": [
        {
          "output_type": "stream",
          "name": "stdout",
          "text": [
            "32\n",
            "(32,)\n",
            "Prediction: 410.78161734301136   Actual: 390.0\n",
            "\n",
            "Prediction: 144.99000843058303   Actual: 160.0\n",
            "\n",
            "Prediction: 661.089946181627   Actual: 700.0\n",
            "\n",
            "Prediction: 916.2093863540133   Actual: 1015.0\n",
            "\n",
            "Prediction: 120.28326145947882   Actual: 120.0\n",
            "\n",
            "Prediction: 892.2945253778526   Actual: 1100.0\n",
            "\n",
            "Prediction: 779.3303627505259   Actual: 820.0\n",
            "\n",
            "Prediction: 970.5137205767612   Actual: 950.0\n",
            "\n",
            "Prediction: 613.9718885345383   Actual: 556.0\n",
            "\n",
            "Prediction: 138.75685094718818   Actual: 145.0\n",
            "\n",
            "Prediction: 702.9669446833261   Actual: 700.0\n",
            "\n",
            "Prediction: 1200.8808098546551   Actual: 1600.0\n",
            "\n",
            "Prediction: 736.0196461334101   Actual: 720.0\n",
            "\n",
            "Prediction: 68.24127115648642   Actual: 55.0\n",
            "\n",
            "Prediction: 65.41870350931529   Actual: 85.0\n",
            "\n",
            "Prediction: 204.0671725829381   Actual: 188.0\n",
            "\n",
            "Prediction: 348.32997005294754   Actual: 300.0\n",
            "\n",
            "Prediction: 164.86007087658058   Actual: 180.0\n",
            "\n",
            "Prediction: 1200.8808098546551   Actual: 1550.0\n",
            "\n",
            "Prediction: 301.29364675643876   Actual: 306.0\n",
            "\n",
            "Prediction: 132.03878287234969   Actual: 140.0\n",
            "\n",
            "Prediction: 1080.9518492396282   Actual: 975.0\n",
            "\n",
            "Prediction: 800.5548871861431   Actual: 1000.0\n",
            "\n",
            "Prediction: 465.0639292791022   Actual: 450.0\n",
            "\n",
            "Prediction: 113.12282845043633   Actual: 110.0\n",
            "\n",
            "Prediction: 78.16667223767497   Actual: 78.0\n",
            "\n",
            "Prediction: 337.9263526033881   Actual: 300.0\n",
            "\n",
            "Prediction: 610.888381080154   Actual: 650.0\n",
            "\n",
            "Prediction: 14.314256689563123   Actual: 6.7\n",
            "\n",
            "Prediction: 526.2784399152629   Actual: 514.0\n",
            "\n",
            "Prediction: 265.75936168111184   Actual: 290.0\n",
            "\n",
            "Prediction: 235.08321339092578   Actual: 270.0\n",
            "\n",
            "\n",
            "Predictions [ 410.78161734  144.99000843  661.08994618  916.20938635  120.28326146\n",
            "  892.29452538  779.33036275  970.51372058  613.97188853  138.75685095\n",
            "  702.96694468 1200.88080985  736.01964613   68.24127116   65.41870351\n",
            "  204.06717258  348.32997005  164.86007088 1200.88080985  301.29364676\n",
            "  132.03878287 1080.95184924  800.55488719  465.06392928  113.12282845\n",
            "   78.16667224  337.9263526   610.88838108   14.31425669  526.27843992\n",
            "  265.75936168  235.08321339]\n",
            "\n",
            "Actual Weights [ 390.   160.   700.  1015.   120.  1100.   820.   950.   556.   145.\n",
            "  700.  1600.   720.    55.    85.   188.   300.   180.  1550.   306.\n",
            "  140.   975.  1000.   450.   110.    78.   300.   650.     6.7  514.\n",
            "  290.   270. ]\n"
          ]
        }
      ]
    },
    {
      "cell_type": "markdown",
      "metadata": {
        "id": "Duo5OHehZYHG"
      },
      "source": [
        "### d) Computing MSE and R-squared for Polynomial Regression (5 points)"
      ]
    },
    {
      "cell_type": "markdown",
      "metadata": {
        "id": "ZBBJcKlcZi4g"
      },
      "source": [
        "Now, compute the MSE and R-squared using y_fish_test and y_fish_pol_pred"
      ]
    },
    {
      "cell_type": "code",
      "metadata": {
        "id": "v9cUc-z_EwJa",
        "colab": {
          "base_uri": "https://localhost:8080/"
        },
        "outputId": "eadf7e1a-e6f5-46ed-b619-b3ed29b011b5"
      },
      "source": [
        "from sklearn.metrics import mean_squared_error\n",
        "from sklearn.metrics import r2_score\n",
        "\n",
        "# Compute the mean squared error using y_fish_test and y_fish_pol_pred\n",
        "mse_poly = mean_squared_error(y_fish_test, y_fish_pol_pred)\n",
        "print(\"MSE: \", mse_poly)\n",
        "\n",
        "# Compute the coefficient of determination using y_fish_test and y_fish_pol_pred\n",
        "r_2_poly = r2_score(y_fish_test, y_fish_pol_pred)\n",
        "print(\"R-Squared: \", r_2_poly)\n"
      ],
      "execution_count": 149,
      "outputs": [
        {
          "output_type": "stream",
          "name": "stdout",
          "text": [
            "MSE:  12552.64579521197\n",
            "R-Squared:  0.9302055934939845\n"
          ]
        }
      ]
    },
    {
      "cell_type": "markdown",
      "metadata": {
        "id": "EibvMRnCFSN1"
      },
      "source": [
        "Using the y_fish_test and y_fish_pol_pred, what was the mean squared error for this model?"
      ]
    },
    {
      "cell_type": "markdown",
      "metadata": {
        "id": "il_tGDNsFSN1"
      },
      "source": [
        "Mean Square Error is: $12552.64579521197$"
      ]
    },
    {
      "cell_type": "markdown",
      "metadata": {
        "id": "-N2v3ly4FSN2"
      },
      "source": [
        "Using the y_fish_test and y_fish_pol_pred, what was the coefficient of detemination for this model?"
      ]
    },
    {
      "cell_type": "markdown",
      "metadata": {
        "id": "rMdHoxc1Znt4"
      },
      "source": [
        "Coefficient of Determination is: $0.9302055934939845$"
      ]
    },
    {
      "cell_type": "markdown",
      "metadata": {
        "id": "9hKsk6BrImZL"
      },
      "source": [
        "### e) Multiple Linear Regression With Categorical Variable (12 points)"
      ]
    },
    {
      "cell_type": "markdown",
      "metadata": {
        "id": "mx2i-jbiF5oP"
      },
      "source": [
        "Now that we have done multiple linear regression, and polynomial multiple linear regression, we will now do a multiple linear regression that takes into account the species of fish by creating numeric levels."
      ]
    },
    {
      "cell_type": "code",
      "metadata": {
        "id": "q1stDO11ImZL",
        "colab": {
          "base_uri": "https://localhost:8080/",
          "height": 422
        },
        "outputId": "4fff387e-5e43-4037-d414-341ca2b55011"
      },
      "source": [
        "# Create a copy of fish_data\n",
        "fish_data_species = fish_data\n",
        "\n",
        "# Begin by generating a dictionary that maps all unique species in fish_data to a unique id\n",
        "level_dict = {species_name:i for i, species_name in enumerate(fish_data_species['Species'].unique())}\n",
        "\n",
        "# Uses the level dictionary to retrieve the id\n",
        "def integer_encode_level(level):\n",
        "    return level_dict[level]\n",
        "\n",
        "# Apply the function to the Species column and store in Species column (you should overwrite the species current data with the numeric representations)\n",
        "fish_data_species['Species'] = fish_data_species['Species'].apply(integer_encode_level)\n",
        "\n",
        "# Check data\n",
        "fish_data_species"
      ],
      "execution_count": 150,
      "outputs": [
        {
          "output_type": "execute_result",
          "data": {
            "text/html": [
              "<div>\n",
              "<style scoped>\n",
              "    .dataframe tbody tr th:only-of-type {\n",
              "        vertical-align: middle;\n",
              "    }\n",
              "\n",
              "    .dataframe tbody tr th {\n",
              "        vertical-align: top;\n",
              "    }\n",
              "\n",
              "    .dataframe thead th {\n",
              "        text-align: right;\n",
              "    }\n",
              "</style>\n",
              "<table border=\"1\" class=\"dataframe\">\n",
              "  <thead>\n",
              "    <tr style=\"text-align: right;\">\n",
              "      <th></th>\n",
              "      <th>Species</th>\n",
              "      <th>Weight</th>\n",
              "      <th>Length1</th>\n",
              "      <th>Length2</th>\n",
              "      <th>Length3</th>\n",
              "      <th>Height</th>\n",
              "      <th>Width</th>\n",
              "    </tr>\n",
              "  </thead>\n",
              "  <tbody>\n",
              "    <tr>\n",
              "      <th>0</th>\n",
              "      <td>0</td>\n",
              "      <td>242.0</td>\n",
              "      <td>23.2</td>\n",
              "      <td>25.4</td>\n",
              "      <td>30.0</td>\n",
              "      <td>11.5200</td>\n",
              "      <td>4.0200</td>\n",
              "    </tr>\n",
              "    <tr>\n",
              "      <th>1</th>\n",
              "      <td>0</td>\n",
              "      <td>290.0</td>\n",
              "      <td>24.0</td>\n",
              "      <td>26.3</td>\n",
              "      <td>31.2</td>\n",
              "      <td>12.4800</td>\n",
              "      <td>4.3056</td>\n",
              "    </tr>\n",
              "    <tr>\n",
              "      <th>2</th>\n",
              "      <td>0</td>\n",
              "      <td>340.0</td>\n",
              "      <td>23.9</td>\n",
              "      <td>26.5</td>\n",
              "      <td>31.1</td>\n",
              "      <td>12.3778</td>\n",
              "      <td>4.6961</td>\n",
              "    </tr>\n",
              "    <tr>\n",
              "      <th>3</th>\n",
              "      <td>0</td>\n",
              "      <td>363.0</td>\n",
              "      <td>26.3</td>\n",
              "      <td>29.0</td>\n",
              "      <td>33.5</td>\n",
              "      <td>12.7300</td>\n",
              "      <td>4.4555</td>\n",
              "    </tr>\n",
              "    <tr>\n",
              "      <th>4</th>\n",
              "      <td>0</td>\n",
              "      <td>430.0</td>\n",
              "      <td>26.5</td>\n",
              "      <td>29.0</td>\n",
              "      <td>34.0</td>\n",
              "      <td>12.4440</td>\n",
              "      <td>5.1340</td>\n",
              "    </tr>\n",
              "    <tr>\n",
              "      <th>...</th>\n",
              "      <td>...</td>\n",
              "      <td>...</td>\n",
              "      <td>...</td>\n",
              "      <td>...</td>\n",
              "      <td>...</td>\n",
              "      <td>...</td>\n",
              "      <td>...</td>\n",
              "    </tr>\n",
              "    <tr>\n",
              "      <th>154</th>\n",
              "      <td>6</td>\n",
              "      <td>12.2</td>\n",
              "      <td>11.5</td>\n",
              "      <td>12.2</td>\n",
              "      <td>13.4</td>\n",
              "      <td>2.0904</td>\n",
              "      <td>1.3936</td>\n",
              "    </tr>\n",
              "    <tr>\n",
              "      <th>155</th>\n",
              "      <td>6</td>\n",
              "      <td>13.4</td>\n",
              "      <td>11.7</td>\n",
              "      <td>12.4</td>\n",
              "      <td>13.5</td>\n",
              "      <td>2.4300</td>\n",
              "      <td>1.2690</td>\n",
              "    </tr>\n",
              "    <tr>\n",
              "      <th>156</th>\n",
              "      <td>6</td>\n",
              "      <td>12.2</td>\n",
              "      <td>12.1</td>\n",
              "      <td>13.0</td>\n",
              "      <td>13.8</td>\n",
              "      <td>2.2770</td>\n",
              "      <td>1.2558</td>\n",
              "    </tr>\n",
              "    <tr>\n",
              "      <th>157</th>\n",
              "      <td>6</td>\n",
              "      <td>19.7</td>\n",
              "      <td>13.2</td>\n",
              "      <td>14.3</td>\n",
              "      <td>15.2</td>\n",
              "      <td>2.8728</td>\n",
              "      <td>2.0672</td>\n",
              "    </tr>\n",
              "    <tr>\n",
              "      <th>158</th>\n",
              "      <td>6</td>\n",
              "      <td>19.9</td>\n",
              "      <td>13.8</td>\n",
              "      <td>15.0</td>\n",
              "      <td>16.2</td>\n",
              "      <td>2.9322</td>\n",
              "      <td>1.8792</td>\n",
              "    </tr>\n",
              "  </tbody>\n",
              "</table>\n",
              "<p>158 rows × 7 columns</p>\n",
              "</div>"
            ],
            "text/plain": [
              "     Species  Weight  Length1  Length2  Length3   Height   Width\n",
              "0          0   242.0     23.2     25.4     30.0  11.5200  4.0200\n",
              "1          0   290.0     24.0     26.3     31.2  12.4800  4.3056\n",
              "2          0   340.0     23.9     26.5     31.1  12.3778  4.6961\n",
              "3          0   363.0     26.3     29.0     33.5  12.7300  4.4555\n",
              "4          0   430.0     26.5     29.0     34.0  12.4440  5.1340\n",
              "..       ...     ...      ...      ...      ...      ...     ...\n",
              "154        6    12.2     11.5     12.2     13.4   2.0904  1.3936\n",
              "155        6    13.4     11.7     12.4     13.5   2.4300  1.2690\n",
              "156        6    12.2     12.1     13.0     13.8   2.2770  1.2558\n",
              "157        6    19.7     13.2     14.3     15.2   2.8728  2.0672\n",
              "158        6    19.9     13.8     15.0     16.2   2.9322  1.8792\n",
              "\n",
              "[158 rows x 7 columns]"
            ]
          },
          "metadata": {},
          "execution_count": 150
        }
      ]
    },
    {
      "cell_type": "markdown",
      "metadata": {
        "id": "wY-3cKNAK3cX"
      },
      "source": [
        "We will now create a dataset with 1 target column and 6 feature columns: Species, Length1, Length2, Length3, Height, Width. "
      ]
    },
    {
      "cell_type": "code",
      "metadata": {
        "id": "t49zhMyUJni-",
        "colab": {
          "base_uri": "https://localhost:8080/"
        },
        "outputId": "b8a2322e-8090-484b-ba8c-a60e5f57af44"
      },
      "source": [
        "# Split fish_data into \n",
        "y_fish_categorical = fish_data_species.iloc[:, 1] # Get Fish Weights\n",
        "X_fish_categorical = fish_data_species.drop(columns=['Weight']) # Get Fish measurements plus species\n",
        "\n",
        "# Print X_fish_categorical.head(), you should have 6 features for each sample\n",
        "print(\"X_fish_categorical.head():\")\n",
        "print(X_fish_categorical.head())\n",
        "\n",
        "# Print y_fish_categorical.head(), you should have one label for each sample\n",
        "print(\"\\ny_fish_categorical.head()\")\n",
        "print(y_fish_categorical.head())"
      ],
      "execution_count": 151,
      "outputs": [
        {
          "output_type": "stream",
          "name": "stdout",
          "text": [
            "X_fish_categorical.head():\n",
            "   Species  Length1  Length2  Length3   Height   Width\n",
            "0        0     23.2     25.4     30.0  11.5200  4.0200\n",
            "1        0     24.0     26.3     31.2  12.4800  4.3056\n",
            "2        0     23.9     26.5     31.1  12.3778  4.6961\n",
            "3        0     26.3     29.0     33.5  12.7300  4.4555\n",
            "4        0     26.5     29.0     34.0  12.4440  5.1340\n",
            "\n",
            "y_fish_categorical.head()\n",
            "0    242.0\n",
            "1    290.0\n",
            "2    340.0\n",
            "3    363.0\n",
            "4    430.0\n",
            "Name: Weight, dtype: float64\n"
          ]
        }
      ]
    },
    {
      "cell_type": "markdown",
      "metadata": {
        "id": "-vlKZB6CK6U-"
      },
      "source": [
        "Create training and test sets for the fish data with categorical species variable:"
      ]
    },
    {
      "cell_type": "code",
      "metadata": {
        "id": "JzzEthUHJndk"
      },
      "source": [
        "# Convert X, and y into np arrays\n",
        "X_fish_categorical = X_fish_categorical.values\n",
        "y_fish_categorical = y_fish_categorical.values\n",
        "\n",
        "# Split data into train test split\n",
        "from sklearn.model_selection import train_test_split\n",
        "X_fish_train_categorical, X_fish_test_categorical, y_fish_train_categorical, y_fish_test_categorical = train_test_split(X_fish_categorical, y_fish_categorical, test_size = 0.2, random_state = 0)"
      ],
      "execution_count": 152,
      "outputs": []
    },
    {
      "cell_type": "markdown",
      "metadata": {
        "id": "gTp4MctlI3WL"
      },
      "source": [
        "Now we are ready to run a our final multiple linear regression. As a recap, we added a categorical variable to represent the species of fish. We encoded the species as levels, and overwrote the species column with the numeric representations of the species. Now, use sklearn's **LinearRegression** to carry out regression one last time."
      ]
    },
    {
      "cell_type": "code",
      "metadata": {
        "id": "E3anA9_dLZEy",
        "colab": {
          "base_uri": "https://localhost:8080/"
        },
        "outputId": "24c2d470-3804-4a24-a978-c5d29c1ea302"
      },
      "source": [
        "from sklearn.linear_model import LinearRegression\n",
        "regressor = LinearRegression()\n",
        "\n",
        "# Fit the regressor using X_fish_train_categorical and y_fish_train_categorical\n",
        "regressor.fit(X_fish_train_categorical, y_fish_train_categorical)"
      ],
      "execution_count": 153,
      "outputs": [
        {
          "output_type": "execute_result",
          "data": {
            "text/plain": [
              "LinearRegression(copy_X=True, fit_intercept=True, n_jobs=None, normalize=False)"
            ]
          },
          "metadata": {},
          "execution_count": 153
        }
      ]
    },
    {
      "cell_type": "markdown",
      "metadata": {
        "id": "6Oac4Ng3L_h3"
      },
      "source": [
        "Let's check the predictions for this model and generate predictions using X_fish_test_categorical. Then print target and estimated weight values side-by-side."
      ]
    },
    {
      "cell_type": "code",
      "metadata": {
        "id": "-e63kqUtL3PW",
        "colab": {
          "base_uri": "https://localhost:8080/"
        },
        "outputId": "acd608b5-6c2b-45f4-b5c5-d95de0a6605e"
      },
      "source": [
        "# generate predictions using X_fish_test_categorical\n",
        "y_fish_pred_categorical = regressor.predict(X_fish_test_categorical)\n",
        "\n",
        "\n",
        "# Print the predictions along with actual weights\n",
        "for pred in range(len(y_fish_pred_categorical)):\n",
        "  print(\"Prediction: {}  \".format(y_fish_pred_categorical[pred]), \"Actual: {}\\n\".format(y_fish_test[pred]))\n",
        "\n",
        "print(\"\\nPredictions\", y_fish_pred_categorical)\n",
        "print(\"\\nActual Weights\", y_fish_test)"
      ],
      "execution_count": 154,
      "outputs": [
        {
          "output_type": "stream",
          "name": "stdout",
          "text": [
            "Prediction: 462.4162250426443   Actual: 390.0\n",
            "\n",
            "Prediction: 140.46342332395182   Actual: 160.0\n",
            "\n",
            "Prediction: 707.8190370938321   Actual: 700.0\n",
            "\n",
            "Prediction: 871.1228324376716   Actual: 1015.0\n",
            "\n",
            "Prediction: 143.05409674330986   Actual: 120.0\n",
            "\n",
            "Prediction: 843.1293791398471   Actual: 1100.0\n",
            "\n",
            "Prediction: 769.5775194426856   Actual: 820.0\n",
            "\n",
            "Prediction: 868.4968023862289   Actual: 950.0\n",
            "\n",
            "Prediction: 666.5983991340822   Actual: 556.0\n",
            "\n",
            "Prediction: 194.15313937916403   Actual: 145.0\n",
            "\n",
            "Prediction: 672.8149122816362   Actual: 700.0\n",
            "\n",
            "Prediction: 960.513302420276   Actual: 1600.0\n",
            "\n",
            "Prediction: 736.9098617610275   Actual: 720.0\n",
            "\n",
            "Prediction: -2.954443624019632   Actual: 55.0\n",
            "\n",
            "Prediction: 41.01945185685054   Actual: 85.0\n",
            "\n",
            "Prediction: 284.75537217699593   Actual: 188.0\n",
            "\n",
            "Prediction: 561.7345642602932   Actual: 300.0\n",
            "\n",
            "Prediction: 224.7491460051964   Actual: 180.0\n",
            "\n",
            "Prediction: 960.513302420276   Actual: 1550.0\n",
            "\n",
            "Prediction: 350.8427264339243   Actual: 306.0\n",
            "\n",
            "Prediction: 72.0250698527093   Actual: 140.0\n",
            "\n",
            "Prediction: 829.1424727559747   Actual: 975.0\n",
            "\n",
            "Prediction: 732.9478213972047   Actual: 1000.0\n",
            "\n",
            "Prediction: 509.4816319943013   Actual: 450.0\n",
            "\n",
            "Prediction: 42.63910432499881   Actual: 110.0\n",
            "\n",
            "Prediction: -17.639798181495962   Actual: 78.0\n",
            "\n",
            "Prediction: 419.59866662087825   Actual: 300.0\n",
            "\n",
            "Prediction: 639.904837343981   Actual: 650.0\n",
            "\n",
            "Prediction: -123.28748212907419   Actual: 6.7\n",
            "\n",
            "Prediction: 564.138140548182   Actual: 514.0\n",
            "\n",
            "Prediction: 296.09034526700907   Actual: 290.0\n",
            "\n",
            "Prediction: 277.24831537154444   Actual: 270.0\n",
            "\n",
            "\n",
            "Predictions [ 462.41622504  140.46342332  707.81903709  871.12283244  143.05409674\n",
            "  843.12937914  769.57751944  868.49680239  666.59839913  194.15313938\n",
            "  672.81491228  960.51330242  736.90986176   -2.95444362   41.01945186\n",
            "  284.75537218  561.73456426  224.74914601  960.51330242  350.84272643\n",
            "   72.02506985  829.14247276  732.9478214   509.48163199   42.63910432\n",
            "  -17.63979818  419.59866662  639.90483734 -123.28748213  564.13814055\n",
            "  296.09034527  277.24831537]\n",
            "\n",
            "Actual Weights [ 390.   160.   700.  1015.   120.  1100.   820.   950.   556.   145.\n",
            "  700.  1600.   720.    55.    85.   188.   300.   180.  1550.   306.\n",
            "  140.   975.  1000.   450.   110.    78.   300.   650.     6.7  514.\n",
            "  290.   270. ]\n"
          ]
        }
      ]
    },
    {
      "cell_type": "markdown",
      "metadata": {
        "id": "lz031lPOZuDJ"
      },
      "source": [
        "### f) Computing MSE and R-squared for MLR with Categorical Variable (5 points)"
      ]
    },
    {
      "cell_type": "code",
      "metadata": {
        "id": "vxN7AuQKMkii",
        "colab": {
          "base_uri": "https://localhost:8080/"
        },
        "outputId": "bfb016a1-bea2-4a04-9d14-b3f3688b470a"
      },
      "source": [
        "# Compute the mean squared error using y_fish_test_categorical and y_fish_pred_categorical\n",
        "mse_cat = mean_squared_error(y_fish_test_categorical, y_fish_pred_categorical)\n",
        "print(\"MSE: \", mse_cat)\n",
        "\n",
        "# Compute the coefficient of determination using y_fish_test_categorical and y_fish_pred_categorical\n",
        "r_2_cat = r2_score(y_fish_test_categorical, y_fish_pred_categorical)\n",
        "print(\"R-Squared: \", r_2_cat)"
      ],
      "execution_count": 155,
      "outputs": [
        {
          "output_type": "stream",
          "name": "stdout",
          "text": [
            "MSE:  34678.46536821308\n",
            "R-Squared:  0.807183047430761\n"
          ]
        }
      ]
    },
    {
      "cell_type": "markdown",
      "metadata": {
        "id": "-PNcaCIHMkij"
      },
      "source": [
        "Using y_fish_test_categorical and y_fish_pred_categorical, what was the mean squared error for this model?"
      ]
    },
    {
      "cell_type": "markdown",
      "metadata": {
        "id": "3qdvVAuyMkij"
      },
      "source": [
        "Mean squared error is $34678.46536821308$\n"
      ]
    },
    {
      "cell_type": "markdown",
      "metadata": {
        "id": "wwUEH3VwMkij"
      },
      "source": [
        "Using y_fish_test_categorical and y_fish_pred_categorical, what was the coefficient of detemination for this model?"
      ]
    },
    {
      "cell_type": "markdown",
      "metadata": {
        "id": "9eCKexTmNNQI"
      },
      "source": [
        "Coefficient of Determination is $0.807183047430761$"
      ]
    },
    {
      "cell_type": "markdown",
      "metadata": {
        "id": "E7Mj2JJcImZW"
      },
      "source": [
        "### g) Researching for the Best Model (15 points)"
      ]
    },
    {
      "cell_type": "markdown",
      "metadata": {
        "id": "Iqy3IOXwNXuw"
      },
      "source": [
        "Read [this](https://www.datarobot.com/blog/regularized-linear-regression-with-scikit-learn/) tutorial to see how you can control the degree of the polynomial and train a **Regularized** linear regression model.\n",
        "\n",
        "In the cell below, investigate and show your observations on:\n",
        "1. Which features are important?\n",
        "2. What polynomial order is appropriate for the model to have an appropriate fit (no overfitting or underfitting)?\n",
        "3. The impact of regularization (L2 norm or L1 norm) and the regularizer factor/parameter on model's generalization capability.\n",
        "4. Finally, report your best model (including model's cost function, regularizer, regularizer factor, and polynomial order) along with a plot of model's performance on the training data and test data. We expect this model to perform better than all prior models you trained."
      ]
    },
    {
      "cell_type": "code",
      "metadata": {
        "id": "bZG3jRfW7-wu",
        "colab": {
          "base_uri": "https://localhost:8080/",
          "height": 1000
        },
        "outputId": "8210a581-3cc5-42c0-f4bd-3fa541df4b2e"
      },
      "source": [
        "from sklearn.pipeline import make_pipeline\n",
        "from sklearn.linear_model import Lasso, Ridge\n",
        "import warnings\n",
        "warnings.filterwarnings(\"ignore\")\n",
        "\n",
        "## PART 2: FINDING OPTIMAL POLYNOMIAL DEGREE\n",
        "train_error = np.empty(10)\n",
        "test_error = np.empty(10)\n",
        "train_r2 = np.empty(10)\n",
        "test_r2 = np.empty(10)\n",
        "for degree in range(10):\n",
        "  reg = make_pipeline(PolynomialFeatures(degree + 1), LinearRegression())\n",
        "  reg.fit(X_fish_train, y_fish_train)\n",
        "  y_pred_train = reg.predict(X_fish_train)\n",
        "  y_pred_test = reg.predict(X_fish_test)\n",
        "  train_error[degree] = mean_squared_error(y_fish_train, y_pred_train)\n",
        "  test_error[degree] = mean_squared_error(y_fish_test, y_pred_test)\n",
        "  train_r2[degree] = r2_score(y_fish_train, y_pred_train)\n",
        "  test_r2[degree] = r2_score(y_fish_test, y_pred_test)\n",
        "\n",
        "plt.plot(np.arange(10), train_error, color='blue', label='train')\n",
        "plt.plot(np.arange(10), test_error, color='red', label='test')\n",
        "plt.ylabel('mean squared error')\n",
        "plt.xlabel('degree')\n",
        "plt.legend(loc='upper left')\n",
        "plt.ylim((-1.0e6, 1.5e12))\n",
        "plt.show()\n",
        "\n",
        "plt.plot(np.arange(10), train_r2, color='blue', label='train')\n",
        "plt.plot(np.arange(10), test_r2, color='red', label='test')\n",
        "plt.ylabel('R squared Score')\n",
        "plt.xlabel('degree')\n",
        "plt.legend(loc='lower left')\n",
        "plt.ylim((0, 1))\n",
        "plt.show()\n",
        "\n",
        "print(\"Mean Squared Error for testing data (no regularization) \\n\", test_error)\n",
        "\n",
        "## increment by 1 to account for how I indexed the mse arrays\n",
        "min_arg = np.argmin(test_error)\n",
        "mse_no_reg = test_error[min_arg]\n",
        "print(\"Model with the least MSE is of degree: {} with MSE = {}\".format(min_arg + 1, mse_no_reg))\n",
        "max_arg = np.argmax(test_r2)\n",
        "r2_no_reg = test_r2[max_arg]\n",
        "print(\"Model with the largest r2 score is of degree: {} with r2 = {}\\n\".format(max_arg + 1, r2_no_reg))\n",
        "print(\"###################\")\n",
        "\n",
        "## PART 3: REGULARIZATION\n",
        "def regularize(l2norm = True, begin = 1e-7, end = 1e-2):  # function do do Ridge or Lasso regularization\n",
        "  num_intervals = 70\n",
        "\n",
        "  linspace = np.linspace(begin, end, num_intervals)\n",
        "  degree = 2\n",
        "  train_error = np.empty(num_intervals)\n",
        "  test_error = np.empty(num_intervals)\n",
        "  train_r2 = np.empty(num_intervals)\n",
        "  test_r2 = np.empty(num_intervals)\n",
        "  for i, alpha in enumerate(linspace):\n",
        "    if l2norm:\n",
        "      est = make_pipeline(PolynomialFeatures(degree), Ridge(alpha=alpha))\n",
        "    else:\n",
        "      est = make_pipeline(PolynomialFeatures(degree), Lasso(alpha=alpha))\n",
        "    est.fit(X_fish_train, y_fish_train)\n",
        "    y_pred_train = est.predict(X_fish_train)\n",
        "    y_pred_test = est.predict(X_fish_test)\n",
        "    train_error[i] = mean_squared_error(y_fish_train, y_pred_train)\n",
        "    test_error[i] = mean_squared_error(y_fish_test, y_pred_test)\n",
        "    train_r2[i] = r2_score(y_fish_train, y_pred_train)\n",
        "    test_r2[i] = r2_score(y_fish_test, y_pred_test)\n",
        "  \n",
        "  print(\"Train MSE: \", train_error)\n",
        "  print(\"Test MSE: \", test_error, \"\\n\\n\")\n",
        "\n",
        "  plt.plot(linspace, train_error, color='blue', label='train')\n",
        "  plt.plot(linspace, test_error, color='red', label='test')\n",
        "  plt.ylabel('mean squared error')\n",
        "  plt.xlabel('alpha')\n",
        "  plt.legend(loc='lower left')\n",
        "  plt.ylim((0, 2.5e4))\n",
        "  plt.show()\n",
        "\n",
        "  print(\"\\n\\nTrain R-Squared: \", train_r2)\n",
        "  print(\"Test R-Squared: \", test_r2, \"\\n\\n\")\n",
        "\n",
        "  plt.plot(linspace, train_r2, color='blue', label='train')\n",
        "  plt.plot(linspace, test_r2, color='red', label='test')\n",
        "  plt.ylabel('R Squared Score')\n",
        "  plt.xlabel('alpha')\n",
        "  plt.legend(loc='lower left')\n",
        "  plt.ylim((0.7, 1))\n",
        "  plt.show()\n",
        "\n",
        "  min_al = np.argmin(test_error)\n",
        "  max_al = np.argmax(test_r2)\n",
        "  mse_reg = test_error[min_al]\n",
        "  r2_reg = test_r2[max_al]\n",
        "  print(\"Alpha with the least MSE is: {} \\n      MSE = {} \\n      r2 = {}\".format(linspace[min_al], test_error[min_al], test_r2[max_al]))\n",
        "  print(\"Improvement in MSE (new - old) is: \", mse_reg - mse_no_reg)\n",
        "  print(\"Improvement in r2 Score (new - old) is: \", r2_reg - r2_no_reg)\n",
        "  return linspace[min_al], test_error[min_al]\n",
        "\n",
        "print(\"Regularization using L2 Norm (RIDGE): \")\n",
        "alpha_r, mse_r = regularize(begin = 1e-8, end = 0.9)\n",
        "print(\"###################\")\n",
        "\n",
        "print(\"\\nRegularization using L1 Norm (LASSO): \")\n",
        "alpha_l, mse_l = regularize(False)\n",
        "print(\"###################\")\n",
        "\n",
        "if mse_l < mse_r:\n",
        "  print(\"Lasso (L1 Norm) outputs the lowest MSE.\")\n",
        "else:\n",
        "  print(\"Ridge(L2 Norm) outputs the lowest MSE\")\n",
        "\n",
        "## Part 4 - Best linear model (USING L1 NORM WHICH HAS OUTPUTTED)\n",
        "print(\"\\nBest Model:\")\n",
        "lasso = Lasso(alpha=alpha_l)\n",
        "reg = make_pipeline(PolynomialFeatures(2), lasso)\n",
        "reg.fit(X_fish_train, y_fish_train)\n",
        "y_pred_train = reg.predict(X_fish_train)\n",
        "y_pred_test = reg.predict(X_fish_test)\n",
        "train_error = mean_squared_error(y_fish_train, y_pred_train)\n",
        "test_error = mean_squared_error(y_fish_test, y_pred_test)\n",
        "\n",
        "print(\"Cost (MSE) = {}, Regularizer = L1 Norm, Regularizer factor = {}, Polynomial Order = 2\".format(test_error, alpha_l))\n",
        "\n",
        "print(\"\\nFeature Weights after L1 Norm Regularization:\")\n",
        "lasso.fit(X_fish_train, y_fish_train)\n",
        "for i, x in enumerate(list(lasso.coef_)):\n",
        "  print(\"{}: {}\".format(fish_data.columns.values[i+2], x))"
      ],
      "execution_count": 156,
      "outputs": [
        {
          "output_type": "display_data",
          "data": {
            "image/png": "[encoded data removed]",
            "text/plain": [
              "<Figure size 432x288 with 1 Axes>"
            ]
          },
          "metadata": {
            "needs_background": "light"
          }
        },
        {
          "output_type": "display_data",
          "data": {
            "image/png": "[encoded data removed]",
            "text/plain": [
              "<Figure size 432x288 with 1 Axes>"
            ]
          },
          "metadata": {
            "needs_background": "light"
          }
        },
        {
          "output_type": "stream",
          "name": "stdout",
          "text": [
            "Mean Squared Error for testing data (no regularization) \n",
            " [3.15617731e+04 1.25526458e+04 2.90441682e+05 1.11227736e+12\n",
            " 5.08048817e+07 3.68500106e+07 2.84407987e+09 9.78391078e+10\n",
            " 2.05072210e+12 3.95275455e+13]\n",
            "Model with the least MSE is of degree: 2 with MSE = 12552.64579521197\n",
            "Model with the largest r2 score is of degree: 2 with r2 = 0.9302055934939845\n",
            "\n",
            "###################\n",
            "Regularization using L2 Norm (RIDGE): \n",
            "Train MSE:  [1288.93159472 1288.94194092 1288.96922283 1289.00941677 1289.05977661\n",
            " 1289.11829038 1289.18341975 1289.25395608 1289.3289315  1289.40756026\n",
            " 1289.48919738 1289.57330898 1289.65945    1289.74724719 1289.83638577\n",
            " 1289.92659939 1290.01766121 1290.10937802 1290.20158433 1290.2941381\n",
            " 1290.38691687 1290.47981542 1290.57274252 1290.66561947 1290.75837781\n",
            " 1290.85095828 1290.94330935 1291.03538638 1291.1271504  1291.21856766\n",
            " 1291.30960884 1291.40024844 1291.49046437 1291.58023758 1291.66955161\n",
            " 1291.75839216 1291.84674717 1291.93460631 1292.02196073 1292.10880316\n",
            " 1292.19512749 1292.28092858 1292.36620257 1292.45094628 1292.5351573\n",
            " 1292.61883401 1292.70197528 1292.78458075 1292.8666504  1292.94818466\n",
            " 1293.02918432 1293.1096507  1293.18958526 1293.26898984 1293.34786646\n",
            " 1293.42621738 1293.50404516 1293.58135249 1293.6581421  1293.73441704\n",
            " 1293.81018039 1293.88543533 1293.96018526 1294.03443351 1294.10818355\n",
            " 1294.18143898 1294.2542033  1294.32648032 1294.39827362 1294.46958697]\n",
            "Test MSE:  [12552.64578114 12572.40522545 12590.88552051 12608.19190354\n",
            " 12624.40569165 12639.59825631 12653.83555256 12667.17963053\n",
            " 12679.68898372 12691.41864252 12702.42020872 12712.74190586\n",
            " 12722.42867892 12731.52235169 12740.06174714 12748.08290534\n",
            " 12755.61922129 12762.70167846 12769.35898302 12775.61775087\n",
            " 12781.50266175 12787.03662186 12792.24089163 12797.13522669\n",
            " 12801.73797886 12806.06622629 12810.13586703 12813.96171091\n",
            " 12817.55756489 12820.93631252 12824.10998432 12827.08982208\n",
            " 12829.88633805 12832.50937863 12834.96815768 12837.27131582\n",
            " 12839.42696094 12841.4427022  12843.32568721 12845.08263731\n",
            " 12846.71987673 12848.24335361 12849.65867714 12850.97113281\n",
            " 12852.18570266 12853.30709277 12854.3397449  12855.2878613\n",
            " 12856.15540722 12856.94614057 12857.66361233 12858.31119335\n",
            " 12858.89206942 12859.40926569 12859.86565191 12860.26394787\n",
            " 12860.60673824 12860.89647977 12861.13550398 12861.32602855\n",
            " 12861.47016518 12861.56991945 12861.62720444 12861.64383864\n",
            " 12861.62155685 12861.56201338 12861.4667846  12861.33737268\n",
            " 12861.17521235 12860.9816746 ] \n",
            "\n",
            "\n"
          ]
        },
        {
          "output_type": "display_data",
          "data": {
            "image/png": "[encoded data removed]",
            "text/plain": [
              "<Figure size 432x288 with 1 Axes>"
            ]
          },
          "metadata": {
            "needs_background": "light"
          }
        },
        {
          "output_type": "stream",
          "name": "stdout",
          "text": [
            "\n",
            "\n",
            "Train R-Squared:  [0.98825332 0.98825323 0.98825298 0.98825261 0.98825215 0.98825162\n",
            " 0.98825103 0.98825038 0.9882497  0.98824898 0.98824824 0.98824747\n",
            " 0.98824669 0.98824589 0.98824508 0.98824425 0.98824342 0.98824259\n",
            " 0.98824175 0.9882409  0.98824006 0.98823921 0.98823836 0.98823752\n",
            " 0.98823667 0.98823583 0.98823499 0.98823415 0.98823331 0.98823248\n",
            " 0.98823165 0.98823082 0.98823    0.98822918 0.98822837 0.98822756\n",
            " 0.98822675 0.98822595 0.98822516 0.98822437 0.98822358 0.9882228\n",
            " 0.98822202 0.98822125 0.98822048 0.98821972 0.98821896 0.98821821\n",
            " 0.98821746 0.98821672 0.98821598 0.98821524 0.98821452 0.98821379\n",
            " 0.98821307 0.98821236 0.98821165 0.98821095 0.98821025 0.98820955\n",
            " 0.98820886 0.98820817 0.98820749 0.98820682 0.98820614 0.98820548\n",
            " 0.98820481 0.98820415 0.9882035  0.98820285]\n",
            "Test R-Squared:  [0.93020559 0.93009573 0.92999298 0.92989675 0.9298066  0.92972213\n",
            " 0.92964296 0.92956877 0.92949922 0.929434   0.92937283 0.92931544\n",
            " 0.92926158 0.92921102 0.92916354 0.92911894 0.92907703 0.92903765\n",
            " 0.92900064 0.92896584 0.92893312 0.92890235 0.92887341 0.9288462\n",
            " 0.92882061 0.92879654 0.92877391 0.92875264 0.92873265 0.92871386\n",
            " 0.92869622 0.92867965 0.9286641  0.92864951 0.92863584 0.92862304\n",
            " 0.92861105 0.92859984 0.92858937 0.92857961 0.9285705  0.92856203\n",
            " 0.92855416 0.92854686 0.92854011 0.92853388 0.92852813 0.92852286\n",
            " 0.92851804 0.92851364 0.92850965 0.92850605 0.92850282 0.92849995\n",
            " 0.92849741 0.9284952  0.92849329 0.92849168 0.92849035 0.92848929\n",
            " 0.92848849 0.92848793 0.92848762 0.92848752 0.92848765 0.92848798\n",
            " 0.92848851 0.92848923 0.92849013 0.9284912 ] \n",
            "\n",
            "\n"
          ]
        },
        {
          "output_type": "display_data",
          "data": {
            "image/png": "[encoded data removed]",
            "text/plain": [
              "<Figure size 432x288 with 1 Axes>"
            ]
          },
          "metadata": {
            "needs_background": "light"
          }
        },
        {
          "output_type": "stream",
          "name": "stdout",
          "text": [
            "Alpha with the least MSE is: 1e-08 \n",
            "      MSE = 12552.645781135749 \n",
            "      r2 = 0.9302055935722502\n",
            "Improvement in MSE (new - old) is:  -1.4076222214498557e-05\n",
            "Improvement in r2 Score (new - old) is:  7.826572723246272e-11\n",
            "###################\n",
            "\n",
            "Regularization using L1 Norm (LASSO): \n",
            "Train MSE:  [1366.65934639 1366.65706476 1366.65478643 1366.65251139 1366.65023957\n",
            " 1366.64797109 1366.64570591 1366.64344402 1366.64118541 1366.6389301\n",
            " 1366.63667808 1366.63442935 1366.63218392 1366.62994157 1366.62770269\n",
            " 1366.62546711 1366.62324797 1366.62102854 1366.61880417 1366.61658309\n",
            " 1366.6143653  1366.61215081 1366.6099396  1366.60773169 1366.60552706\n",
            " 1366.60332527 1366.60112721 1366.59893244 1366.59674097 1366.59455278\n",
            " 1366.59236789 1366.59018628 1366.58800797 1366.58583295 1366.58366122\n",
            " 1366.58149278 1366.57932763 1366.57716577 1366.57500661 1366.57290238\n",
            " 1366.5707527  1366.56860533 1366.56646124 1366.56432045 1366.56218295\n",
            " 1366.56004874 1366.55791782 1366.55578934 1366.55366498 1366.55154392\n",
            " 1366.54942615 1366.54731167 1366.54520048 1366.54309258 1366.54098797\n",
            " 1366.53888665 1366.53678863 1366.53469389 1366.53260245 1366.5305143\n",
            " 1366.52842944 1366.52634787 1366.52433981 1366.52227859 1366.52020823\n",
            " 1366.51814013 1366.51607633 1366.51401582 1366.51195861 1366.50990342]\n",
            "Test MSE:  [11013.3708884  11013.62525298 11013.87962592 11014.13400723\n",
            " 11014.38840033 11014.64279921 11014.89720646 11015.15162206\n",
            " 11015.40604603 11015.66047835 11015.91491904 11016.16936808\n",
            " 11016.42382549 11016.67829871 11016.93277341 11017.18725647\n",
            " 11017.44145644 11017.6957442  11017.95022271 11018.20470958\n",
            " 11018.45920481 11018.7137084  11018.96822035 11019.22274066\n",
            " 11019.47726933 11019.73182785 11019.98637409 11020.2409287\n",
            " 11020.49549166 11020.75006298 11021.00464266 11021.2592307\n",
            " 11021.5138271  11021.76843185 11022.02304497 11022.27766644\n",
            " 11022.53229628 11022.78693447 11023.04160283 11023.29512505\n",
            " 11023.54973747 11023.80438003 11024.05903094 11024.31369021\n",
            " 11024.56835784 11024.82303383 11025.07771817 11025.3324513\n",
            " 11025.58715321 11025.84186349 11026.09658212 11026.35130912\n",
            " 11026.60604447 11026.86078817 11027.11554024 11027.37030066\n",
            " 11027.62506944 11027.87984657 11028.13463207 11028.38942592\n",
            " 11028.64422813 11028.89903869 11029.15229756 11029.40681891\n",
            " 11029.66162489 11029.91647658 11030.17129984 11030.42613146\n",
            " 11030.68097143 11030.93587912] \n",
            "\n",
            "\n"
          ]
        },
        {
          "output_type": "display_data",
          "data": {
            "image/png": "[encoded data removed]",
            "text/plain": [
              "<Figure size 432x288 with 1 Axes>"
            ]
          },
          "metadata": {
            "needs_background": "light"
          }
        },
        {
          "output_type": "stream",
          "name": "stdout",
          "text": [
            "\n",
            "\n",
            "Train R-Squared:  [0.98754495 0.98754497 0.98754499 0.98754501 0.98754503 0.98754505\n",
            " 0.98754507 0.98754509 0.98754511 0.98754514 0.98754516 0.98754518\n",
            " 0.9875452  0.98754522 0.98754524 0.98754526 0.98754528 0.9875453\n",
            " 0.98754532 0.98754534 0.98754536 0.98754538 0.9875454  0.98754542\n",
            " 0.98754544 0.98754546 0.98754548 0.9875455  0.98754552 0.98754554\n",
            " 0.98754556 0.98754558 0.9875456  0.98754562 0.98754564 0.98754566\n",
            " 0.98754568 0.9875457  0.98754572 0.98754574 0.98754576 0.98754578\n",
            " 0.9875458  0.98754582 0.98754583 0.98754585 0.98754587 0.98754589\n",
            " 0.98754591 0.98754593 0.98754595 0.98754597 0.98754599 0.98754601\n",
            " 0.98754603 0.98754605 0.98754607 0.98754609 0.9875461  0.98754612\n",
            " 0.98754614 0.98754616 0.98754618 0.9875462  0.98754622 0.98754624\n",
            " 0.98754625 0.98754627 0.98754629 0.98754631]\n",
            "Test R-Squared:  [0.93876417 0.93876276 0.93876134 0.93875993 0.93875851 0.9387571\n",
            " 0.93875568 0.93875427 0.93875285 0.93875144 0.93875002 0.93874861\n",
            " 0.9387472  0.93874578 0.93874437 0.93874295 0.93874154 0.93874012\n",
            " 0.93873871 0.93873729 0.93873588 0.93873446 0.93873305 0.93873163\n",
            " 0.93873022 0.9387288  0.93872739 0.93872597 0.93872456 0.93872314\n",
            " 0.93872173 0.93872031 0.93871889 0.93871748 0.93871606 0.93871465\n",
            " 0.93871323 0.93871182 0.9387104  0.93870899 0.93870757 0.93870616\n",
            " 0.93870474 0.93870333 0.93870191 0.93870049 0.93869908 0.93869766\n",
            " 0.93869625 0.93869483 0.93869341 0.938692   0.93869058 0.93868916\n",
            " 0.93868775 0.93868633 0.93868491 0.9386835  0.93868208 0.93868066\n",
            " 0.93867925 0.93867783 0.93867642 0.93867501 0.93867359 0.93867217\n",
            " 0.93867076 0.93866934 0.93866792 0.93866651] \n",
            "\n",
            "\n"
          ]
        },
        {
          "output_type": "display_data",
          "data": {
            "image/png": "[encoded data removed]",
            "text/plain": [
              "<Figure size 432x288 with 1 Axes>"
            ]
          },
          "metadata": {
            "needs_background": "light"
          }
        },
        {
          "output_type": "stream",
          "name": "stdout",
          "text": [
            "Alpha with the least MSE is: 1e-07 \n",
            "      MSE = 11013.370888397392 \n",
            "      r2 = 0.9387641699346345\n",
            "Improvement in MSE (new - old) is:  -1539.2749068145786\n",
            "Improvement in r2 Score (new - old) is:  0.008558576440650056\n",
            "###################\n",
            "Lasso (L1 Norm) outputs the lowest MSE.\n",
            "\n",
            "Best Model:\n",
            "Cost (MSE) = 11013.370888397392, Regularizer = L1 Norm, Regularizer factor = 1e-07, Polynomial Order = 2\n",
            "\n",
            "Feature Weights after L1 Norm Regularization:\n",
            "Length1: 49.08390481931572\n",
            "Length2: -18.11517039070464\n",
            "Length3: -12.453234121195745\n",
            "Height: 20.973878061157002\n",
            "Width: 61.444343905857544\n"
          ]
        }
      ]
    },
    {
      "cell_type": "markdown",
      "metadata": {
        "id": "xxOSRtkkOxYb"
      },
      "source": [
        "1. It appears that *Width* is one of the most important feature, as it has the highest weight (~$61$) out of all the other features when the L1 Norm Regularization is applied to the training model. This makes it the most important because a small adjustment in input can greatly alter the prediction value, and its maginitude weight is noticably the highest. This is closely followed by *Length1* which has a slightly smaller weight but considerably larger magnitude weight than the other features ($49$ as opposed to $20$). Similarly, small changes in its input can make large changes in the overall prediction. \n",
        "\n",
        "2. Based on the plotted graph of Mean Squared Error (MSE) versus polynomal degree, it is apparent that the trained model with the smallest MSE and the highest coefficient of determination is of **degree 2**. This smaller error means that the model generalizes for the test set well as opposed to other degrees, which have large discrepancies between the training and testing set as a result of overfitting or underfitting. Furthermore, looking at the R-squared score plot, the polynomial model of degree 2 also has the highest R-squared value for the testing set, making it a good fit afor the model.\n",
        "\n",
        "3. Adding the L1 norm as a regularizer proved to be beneficial in improving the overall fit of the model when generalized to the testing set. The overall trend of the regularizer factor versus the MSE is rather flat with minor fluctuations of the data, with a regularizer factor of *1e-7* achieving the lowest MSE of $11013.370888$. This is a noticeable improvement in the overall error of the model, with a decrease of $1539.27490$ when compared to the fit without regularization. This also led to an improvement in the $R^2$ score, which increased by $0.008558$. This implies that with this L1 Norm regularization, the model better generalizes the testing data and serves as a better fit than before. The same occurred when applying the L2 Norm to the model, but with significantly smaller decrease to the MSE and even smaller increase to the $R^2$ value.\n",
        "\n",
        "4. After testing different polynomal models and regularization techniques, the best model is:\n",
        "\n",
        "    Cost (MSE) = $11013.370888397392$ \\\\\n",
        "    L1 Norm (lasso) as the regularizer \\\\\n",
        "    Regularizer factor (lambda) = *1e-07* \\\\\n",
        "    Polynomial Order of degree $2$ \\\\\n",
        "\n",
        "    This results in a model that has a good fit of the data and generalizes relatively well when compared to other models with different degrees and regularization factors. These parameters were chosen through observing each parameter's effect on the MSE and the R-Squared value and picking the one that outputs the lowest cost but the best overall fit. This allowed for the resultant model to have an improved performance as they all minimize the overall error.\n"
      ]
    }
  ]
}